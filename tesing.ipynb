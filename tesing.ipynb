{
 "cells": [
  {
   "cell_type": "code",
   "execution_count": 3,
   "metadata": {},
   "outputs": [],
   "source": [
    "from VC_collections import Collection\n",
    "from VC_collections.Collection import connect_to_google_drive\n",
    "\n",
    "import gspread"
   ]
  },
  {
   "cell_type": "code",
   "execution_count": null,
   "metadata": {},
   "outputs": [],
   "source": [
    "cred = Collection.get_google_drive_credentials()\n",
    "client = gspread.authorize(cred)\n",
    "len(client.list_spreadsheet_files())"
   ]
  },
  {
   "cell_type": "code",
   "execution_count": 6,
   "metadata": {},
   "outputs": [
    {
     "data": {
      "text/plain": [
       "dict_keys(['סימול האוסף', 'סימול הארכיון', 'סימולהארכיון', 'סימול', 'סימולהאוסף', 'סימול מקורי', 'סימולמקורי', 'רמת תיאור', 'רמתתיאור', 'שם האוסף', 'שם הארכיון', 'שםהארכיון', 'שםהאוסף', 'שםהאוסףבאנגלית', 'שםהארכיוןבאנגלית', 'כותרתערבית', 'כותרת', 'תאריך חופשי', 'תאריךחופשי', 'יוצרי האוסף', 'יוצריהאוסף', 'יוצרי הארכיון', 'יוצריהארכיון', 'יוצרים', 'תאריכים', 'מילותמפתחאישיליבה', 'מילות מפתח_אישי ליבה', 'מילות מפתח_מוסדות ליבה', 'מילותמפתחמוסדותליבה', 'מילות מפתח_יצירות ליבה', 'מילותמפתחיצירותליבה', 'מילות מפתח_נושאי ליבה', 'מילותמפתחנושאיליבה', 'סוג חומר', 'סוגחומר', 'היסטוריהארכיונית', 'היסטוריה ארכיונית', 'שיטת הסידור', 'שיטתהסידור', 'תיאורהטיפולבאוסףבפרויקט', 'תיאורהטיפולבארכיוןבפרויקט', 'תיאורהאוסףבפרויקטתרבותחזותיתואמנויותהבמה', 'תיאורהארכיוןבפרויקטתרבותחזותיתואמנויותהבמה', 'תיאור האוסף בפרויקט תרבות חזותית ואמנויות הבמה', 'תיאור הארכיון בפרויקט תרבות חזותית ואמנויות הבמה', 'סוג אוסף', 'סוג ארכיון', 'סוגארכיון', 'סוגאוסף', 'היקף', 'היקף החומר הפיזי טרום מיון', 'היקףהחומרהפיזיטרוםמיון', 'אוסף פתוח', 'ארכיון פתוח', 'אוסףפתוח', 'ארכיוןפתוח', 'ביבליוגרפיה ומקורות מידע', 'ביבליוגרפיהומקורותמידע', 'ביביליוגרפיהומקורותמידע', 'ביביליוגרפיה ומקורות מידע', 'בעלים נוכחי', 'בעליםנוכחי', 'מיקום פיזי', 'מיקוםפיזי', 'חומרים קשורים', 'חומריםקשורים', 'הערות - גלוי למשתמש קצה', 'הערותגלוי למשתמש קצה', 'הערותגלוילמשתמשקצה', 'הערותלאגלוילמשתמשקצה', 'הערות - לא גלוי למשתמש קצה', 'שם הרושם', 'שםהרושם', 'תאריךהרישום', 'תאריך הרישום', 'הערותסוקר'])"
      ]
     },
     "execution_count": 6,
     "metadata": {},
     "output_type": "execute_result"
    }
   ],
   "source": [
    "Collection.collection_field_mapper.keys()"
   ]
  },
  {
   "cell_type": "code",
   "execution_count": 1,
   "metadata": {},
   "outputs": [],
   "source": [
    "from VC_collections.AuthorityFiles import Authority_instance"
   ]
  },
  {
   "cell_type": "code",
   "execution_count": 2,
   "metadata": {},
   "outputs": [
    {
     "data": {
      "text/plain": [
       "{'אין מגבלת פרטיות': 'אין מגבלת פרטיות;ללא מגבלות פרטיות;בלי מגבלת פרטיות;אין מגבלות פרטיות;בלי מגבלות פרטיות;ללא;לא',\n",
       " 'פרטיות נתונים אישיים': 'פרטיות נתונים אישים;פרטיות - נתונים אישים',\n",
       " 'פרטיות מידע רגיש': 'פרטיות מידע רגיש;פרטיות - מידע רגיש',\n",
       " 'פרטיות מידע רפואי': 'פרטיות מידע רפואי;פרטיות - מידע רפואי',\n",
       " 'פרטיות מידע סוציאלי (רווחה)': 'פרטיות מידע סוציאלי (רווחה);פרטיות - מידע סוציאלי (רווחה)',\n",
       " 'פרטיות תנאי העסקה': 'פרטיות תנאי העסקה;פרטיות - תנאי העסקה',\n",
       " 'פרטיות קטינים': 'פרטיות קטינים;פרטיות - קטינים',\n",
       " 'פרטיות אחר': 'פרטיות אחר;פרטיות - אחר',\n",
       " 'פרטיות לבדיקה': 'פרטיות לבדיקה;פרטיות - לבדיקה;לבירור',\n",
       " 'פרטיות הסכמים חוזים': 'פרטיות הסכמים חוזים;פרטיות - הסכמים חוזים'}"
      ]
     },
     "execution_count": 2,
     "metadata": {},
     "output_type": "execute_result"
    }
   ],
   "source": [
    "Authority_instance.privacy_search_dict"
   ]
  },
  {
   "cell_type": "code",
   "execution_count": null,
   "metadata": {},
   "outputs": [],
   "source": [
    "import pandas as pd"
   ]
  },
  {
   "cell_type": "code",
   "execution_count": null,
   "metadata": {},
   "outputs": [],
   "source": [
    "privacy_mapping_dict = pd.Series(Authority_instance.df_privacy_values[\"רמיזות\"].values,\n",
    "                                 index=Authority_instance.df_privacy_values.index.values).to_dict()"
   ]
  },
  {
   "cell_type": "code",
   "execution_count": null,
   "metadata": {},
   "outputs": [],
   "source": [
    "privacy_mapping_dict"
   ]
  },
  {
   "cell_type": "code",
   "execution_count": null,
   "metadata": {},
   "outputs": [],
   "source": [
    "import pandas as pd"
   ]
  },
  {
   "cell_type": "code",
   "execution_count": null,
   "metadata": {},
   "outputs": [],
   "source": [
    "search_dict = pd.Series(Authority_instance.df_privacy_values[\"רמיזות\"].apply(lambda x: x.split(\";\")), \n",
    "                                                               index = Authority_instance.df_privacy_values.index.values).to_dict()"
   ]
  },
  {
   "cell_type": "code",
   "execution_count": null,
   "metadata": {},
   "outputs": [],
   "source": [
    "new_search_dict = {}\n",
    "\n",
    "for key, value in search_dict.items():\n",
    "    if len(value)>1:\n",
    "        for item in value:\n",
    "            new_search_dict[item] = key\n",
    "    else:\n",
    "        new_search_dict[value[0]] = key"
   ]
  },
  {
   "cell_type": "code",
   "execution_count": null,
   "metadata": {},
   "outputs": [],
   "source": [
    "new_search_dict.keys()"
   ]
  },
  {
   "cell_type": "code",
   "execution_count": null,
   "metadata": {},
   "outputs": [],
   "source": [
    "from VC_collections.authorities import convert_dict\n",
    "convert_dict(new_search_dict)"
   ]
  },
  {
   "cell_type": "code",
   "execution_count": null,
   "metadata": {},
   "outputs": [],
   "source": [
    "for key, value in convert_dict(new_search_dict).items():\n",
    "    print(f'key:{key}\\nvalue:{value}\\n')"
   ]
  },
  {
   "cell_type": "code",
   "execution_count": null,
   "metadata": {},
   "outputs": [],
   "source": [
    "Authority_instance.df_arch_mat_search[\"all_terms\"]"
   ]
  },
  {
   "cell_type": "code",
   "execution_count": null,
   "metadata": {},
   "outputs": [],
   "source": [
    "for key, value in Authority_instance.arch_mat_search_dict.items():\n",
    "    print(f'key:{key}\\nvalue:{value}\\n')\n"
   ]
  },
  {
   "cell_type": "code",
   "execution_count": null,
   "metadata": {},
   "outputs": [],
   "source": []
  }
 ],
 "metadata": {
  "kernelspec": {
   "display_name": "Python 3",
   "language": "python",
   "name": "python3"
  },
  "language_info": {
   "codemirror_mode": {
    "name": "ipython",
    "version": 3
   },
   "file_extension": ".py",
   "mimetype": "text/x-python",
   "name": "python",
   "nbconvert_exporter": "python",
   "pygments_lexer": "ipython3",
   "version": "3.8.6rc1"
  }
 },
 "nbformat": 4,
 "nbformat_minor": 2
}
