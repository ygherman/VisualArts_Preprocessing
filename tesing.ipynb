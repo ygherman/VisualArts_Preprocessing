{
 "cells": [
  {
   "cell_type": "code",
   "execution_count": 2,
   "metadata": {},
   "outputs": [],
   "source": [
    "from VC_collections import Collection\n",
    "from VC_collections.Collection import connect_to_google_drive\n",
    "from VC_collections.AuthorityFiles import Authority_instance\n",
    "import gspread"
   ]
  },
  {
   "cell_type": "code",
   "execution_count": 64,
   "metadata": {},
   "outputs": [
    {
     "data": {
      "text/plain": [
       "2314"
      ]
     },
     "execution_count": 64,
     "metadata": {},
     "output_type": "execute_result"
    }
   ],
   "source": [
    "cred = Collection.get_google_drive_credentials()\n",
    "client = gspread.authorize(cred)\n",
    "len(client.list_spreadsheet_files())"
   ]
  },
  {
   "cell_type": "code",
   "execution_count": 65,
   "metadata": {},
   "outputs": [
    {
     "name": "stdout",
     "output_type": "stream",
     "text": [
      "BASE_PATH C:\\Users\\Yaelg\\Google Drive\\National_Library\\Python\\Design\\PShHi\n",
      "C:\\Users\\Yaelg\\Google Drive\\National_Library\\Python\\Design\\PShHi\\Data \n",
      " C:\\Users\\Yaelg\\Google Drive\\National_Library\\Python\\Design\\PShHi\\Data\\raw \n",
      " C:\\Users\\Yaelg\\Google Drive\\National_Library\\Python\\Design\\PShHi\\Data\\processed \n",
      " C:\\Users\\Yaelg\\Google Drive\\National_Library\\Python\\Design\\PShHi\\Data\\reports \n",
      " C:\\Users\\Yaelg\\Google Drive\\National_Library\\Python\\Design\\PShHi\\Copyright \n",
      " C:\\Users\\Yaelg\\Google Drive\\National_Library\\Python\\Design\\PShHi\\Digitization \n",
      " C:\\Users\\Yaelg\\Google Drive\\National_Library\\Python\\Design\\PShHi\\Authorities \n",
      " C:\\Users\\Yaelg\\Google Drive\\National_Library\\Python\\Design\\PShHi\\Custom21 \n",
      " C:\\Users\\Yaelg\\Google Drive\\National_Library\\Python\\Design\\PShHi\\Manage18 \n",
      " C:\\Users\\Yaelg\\Google Drive\\National_Library\\Python\\Design\\PShHi\\Custom04\\Alma\n",
      "0 : PShHi_Final_to_Alma_20210531\n",
      "1 : PShHi_Final_Taub-Levy_23052021\n",
      "2 : PShHi_Final_to_Alma_20210531\n",
      "3 : PShHi_Final_to_Alma_20210524\n",
      "4 : PShHi_WithLinks_240521\n",
      "5 : PShHi_Final_WithLinks_Taub-Levy_23052021\n",
      "which file of the following do you choose? type the index number, if none of the above return -1: \n",
      "1\n",
      "<Worksheet \"צ'ק ליסט היערכות לאיסוף\" id:1081159570>\n",
      "<Worksheet 'פתיחה - יכין הירש' id:706447857>\n",
      "<Worksheet 'מבנה אוסף לדוגמה' id:767878320>\n",
      "<Worksheet 'דוח איסוף וסידור' id:1212196676>\n",
      "<Worksheet 'תכנית עבודה- שירה' id:208834573>\n",
      "<Worksheet 'תכנית עבודה - נטע-לי' id:1753769307>\n",
      "<Worksheet 'חטיבת וידאו לדוגמה' id:1341254350>\n",
      "<Worksheet 'סדר פעולות - סידור מיכלים' id:12264373>\n",
      "<Worksheet \"צ'ק ליסט סגירת טבלת רישום\" id:1915194502>\n",
      "<Worksheet 'קטלוג (עם מספר מיכל ישן)' id:471566077>\n",
      "<Worksheet 'קטלוג' id:95594669>\n",
      "<Worksheet 'אוסף' id:1257381019>\n",
      "<Worksheet 'מעקב דיגיטציה' id:1301105384>\n",
      "<Worksheet 'תכנית עבודה - ליהי' id:1545660030>\n",
      "<Worksheet 'גרף התקדמות' id:1781077943>\n",
      "<Worksheet 'Sheet30' id:196061335>\n",
      "<Worksheet 'Pivot Table 4' id:1508210833>\n",
      "<Worksheet 'Pivot Table 3' id:1548951884>\n",
      "<Worksheet \"  צ'ק ליסט סגירת הארכיון\" id:1934622466>\n",
      "<Worksheet 'יצירות - אדריכלות' id:451293998>\n",
      "<Worksheet 'יצירות - מחול' id:1386691173>\n",
      "<Worksheet 'הגשת קטלוג סופי' id:26812954>\n",
      "<Worksheet 'הנחיות שיום קובץ סופי להגשה' id:1553651525>\n",
      "<Worksheet \"צ'ק ליסט החזרת אוסף\" id:34710441>\n",
      "<Worksheet 'שדות לא לסריקה' id:1848376230>\n",
      "<Worksheet 'מקור נתונים' id:1262927697>\n",
      "<Worksheet 'קטלוג סופי' id:1509239193>\n",
      "col_names: ['ברקוד', 'סימולמקורי', 'סימולפרויקט', 'רמתתיאור', 'מספרמיכל', 'קודתיקארכיון', 'כותרת', 'כותרתאנגלית', 'תיאור', 'תאריךחופשי', 'תאריךמנורמלמוקדם', 'תאריךמנורמלמאוחר', 'תאריךיצירתהחפץהטקסטהמקורימוקדם', 'תאריךיצירתהחפץהטקסטהמקורימאוחר', 'יוצרראשיאיש', 'סוגיוצרראשיאיש', 'יוצריםנוספיםאיש', 'יוצרראשימוסד', 'סוגיוצרראשימוסד', 'יוצריםנוספיםמוסד', 'מילותמפתחאישים', 'מילותמפתחמוסדות', 'מילותמפתחיצירות', 'מילותמפתחנושאים', 'סוגחומר', 'מדיהפורמט', 'קנהמידה', 'טכניקה', 'מדינתהפרסוםהצילום', 'מגבלותפרטיות', 'מסלולדיגיטציה', 'סריקהדוצדדית', 'מסקבציםמוערך', 'שפה', 'משך', 'היקףהחומר', 'פריטייעודילצרכיתוכןויחצ', 'הימצאותתיקיםבמיכלרושמים', 'הימצאותתיקיםבמיכלדיגיטציה', 'הערותגלוילמשתמשקצה', 'הערותלאגלוילמשתמש', 'שםהרושם', 'תאריךהרישום']\n",
      "col_names: ['סימולהאוסף', 'סימולמקורי', 'רמתתיאור', 'שםהאוסף', 'תאריךחופשי', 'יוצריהאוסף', 'מילותמפתחאישיליבה', 'מילותמפתחמוסדותליבה', 'מילותמפתחיצירותליבה', 'מילותמפתחנושאיליבה', 'תקציר', 'היסטוריהארכיונית', 'סוגאוסף', 'היקף', 'אוסףפתוח', 'ביבליוגרפיהומקורותמידע', 'מיקוםפיזי', 'חומריםקשורים', 'הערותגלוילמשתמשקצה', 'הערותלאגלוילמשתמשקצה', 'שםהרושם', 'תאריךהרישום']\n",
      "df_catalog columns: 0: BARCODE\n",
      "1: ORIGINAL_ID\n",
      "2: UNITID\n",
      "3: LEVEL\n",
      "4: CONTAINER\n",
      "5: ARCHIV_ID\n",
      "6: UNITITLE\n",
      "7: UNITITLE_ENG\n",
      "8: SCOPECONTENT\n",
      "9: DATE\n",
      "10: DATE_START\n",
      "11: DATE_END\n",
      "12: PHOTO_DATE_EARLY\n",
      "13: PHOTO_DATE_LATE\n",
      "14: FIRST_CREATOR_PERS\n",
      "15: TYPE_FIRST_CREATOR_PERS\n",
      "16: ADD_CREATOR_PERS\n",
      "17: FIRST_CREATOR_CORP\n",
      "18: TYPE_FIRST_CREATOR_CORP\n",
      "19: ADD_CREATOR_CORPS\n",
      "20: PERSNAME\n",
      "21: CORPNAME\n",
      "22: WORKS\n",
      "23: SUBJECT\n",
      "24: ARCHIVAL_MATERIAL\n",
      "25: MEDIUM_FORMAT\n",
      "26: SCALE\n",
      "27: TECHNIQUE\n",
      "28: PUBLICATION_COUNTRY\n",
      "29: ACCESSRESTRICT\n",
      "30: DIGITIZATION\n",
      "31: TWO_SIDE_SCAN\n",
      "32: EST_FILES_NUM\n",
      "33: LANGUAGE\n",
      "34: DURATION\n",
      "35: EXTENT\n",
      "36: הימצאות תיקים במיכל - רושמים\n",
      "37: הימצאות תיקים במיכל - דיגיטציה\n",
      "38: פריט ייעודי לצרכי תוכן ויח\"צ\n",
      "39: NOTES\n",
      "40: NOTES_HIDDEN\n",
      "41: CATALOGUER\n",
      "42: DATE_CATALOGING\n",
      "df_collection columns: 0: UNITID\n",
      "1: ORIGINAL_ID\n",
      "2: LEVEL\n",
      "3: UNITITLE\n",
      "4: DATE\n",
      "5: COLLECTION_CREATOR\n",
      "6: PERSNAME\n",
      "7: CORPNAME\n",
      "8: WORKS\n",
      "9: SUBJECT\n",
      "10: SUMMARY\n",
      "11: BIOGHIST\n",
      "12: COLLECTION_TYPE\n",
      "13: EXTENT\n",
      "14: ACCURALS\n",
      "15: BIBLIOGRAPHY\n",
      "16: PHYSLOC\n",
      "17: RELATED_MATERIALS\n",
      "18: NOTES\n",
      "19: NOTES_HIDDEN\n",
      "20: CATALOGUER\n",
      "21: DATE_CATALOGING\n",
      " :0\n",
      "סימול :1\n",
      "סימול אב :2\n",
      "ברקוד :3\n",
      "סימול מקורי :4\n",
      "רמת תיאור :5\n",
      "מספר מיכל :6\n",
      "קוד תיק ארכיון :7\n",
      "כותרת :8\n",
      "כותרת אנגלית :9\n",
      "כותרת ערבית :10\n",
      "כותרת מתורגמת :11\n",
      "כותרת משנה :12\n",
      "תיאור :13\n",
      "תאריך חופשי :14\n",
      "תאריך מנורמל מוקדם :15\n",
      "תאריך מנורמל מאוחר :16\n",
      "תאריך יצירת החפץ / הטקסט המקורי מוקדם :17\n",
      "תאריך יצירת החפץ / הטקסט המקורי מאוחר :18\n",
      "יוצרים :19\n",
      "יוצרים אישים :20\n",
      "יוצרים מוסדות :21\n",
      "מילות מפתח - אישים :22\n",
      "מילות מפתח - מוסדות :23\n",
      "מילות מפתח_יצירות :24\n",
      "מילות מפתח_נושאים :25\n",
      "סוג חומר :26\n",
      "מדיה + פורמט :27\n",
      "קנה מידה :28\n",
      "טכניקה :29\n",
      "מדינת הפרסום/הצילום :30\n",
      "מילות מפתח_מקומות :31\n",
      "מגבלות פרטיות :32\n",
      "מסלול דיגיטציה :33\n",
      "סריקה דו-צדדית :34\n",
      "מספר קבצים מוערך :35\n",
      "מספר קבצים לאחר דיגיטציה :36\n",
      "שפה :37\n",
      "היקף החומר :38\n",
      "משך :39\n",
      "הערות גלוי למשתמש קצה :40\n",
      "הערות לא גלוי למשתמש :41\n",
      "שם הרושם :42\n",
      "תאריך הרישום :43\n",
      "היסטוריה ארכיונית :44\n",
      "בעלים נוכחי :45\n",
      "תיאור הטיפול באוסף בפרויקט :46\n",
      "סוג אוסף :47\n",
      "אוסף פתוח :48\n",
      "ביבליוגרפיה ומקורות מידע :49\n",
      "מיקום פיזי :50\n",
      "חומרים קשורים :51\n",
      "תאריך פקיעת החיסיון :52\n",
      "תקציר :53\n",
      "קרדיט עברית :54\n",
      "קרדיט אנגלית :55\n"
     ]
    }
   ],
   "source": [
    "collection= Collection.Collection(\"Alma\", \"Design\", \"PShHi\")"
   ]
  },
  {
   "cell_type": "code",
   "execution_count": 109,
   "metadata": {},
   "outputs": [
    {
     "data": {
      "text/plain": [
       "'ארכיון אדריכלות ישראל (אא\"י)'"
      ]
     },
     "execution_count": 109,
     "metadata": {},
     "output_type": "execute_result"
    }
   ],
   "source": [
    "collection.df_final_data[\"בעלים נוכחי\"].tolist()[0]"
   ]
  },
  {
   "cell_type": "code",
   "execution_count": 93,
   "metadata": {},
   "outputs": [
    {
     "data": {
      "text/plain": [
       "{'תצלומים': 'תצלומים;תצלומים;',\n",
       " 'תצלום (תצלומים)': 'תצלום;תצלום (תצלומים);צילום;צלום;תמונה;פוטוגרף;תצלומים',\n",
       " 'תצלום אוויר (תצלומים)': 'תצלום אוויר;תצלום אוויר (תצלומים);תצלום אויר;תצ\"א;צלום אויר',\n",
       " 'תצלום אירוע (תצלומים)': 'תצלום אירוע;תצלום אירוע (תצלומים);צילום אירוע',\n",
       " 'תצלום חזרה (תצלומים)': 'תצלום חזרה;תצלום חזרה (תצלומים);תצלום שיעור',\n",
       " 'תצלום חפץ (תצלומים)': 'תצלום חפץ;תצלום חפץ (תצלומים);ציינו את שם וסוג החפץ, ראו דוגמאות בסוגריים: תצלום מודל; חפץ [קופסת טבק, שעון, בובה]; יצירת אמנות [פסל, ציור]; אביזר אפנה [משקפיים, חגורה, ארנק]; פריט לבוש [חולצה, חצאית, מכנסיים]; תכשיט [טבעת, רביד, עגילים]; יודאיקה [מגדל בשמים, כוס קידוש, פמוטים]; אריג [פשתן, צמר, כותנה]; ריהוט [כיסא, שולחן, ארונית]; משחק [לוח, קופסה, חשיבה].',\n",
       " 'תצלום מסמך (תצלומים)': 'תצלום מסמך;תצלום מסמך (תצלומים);העתק של מסמך;העתק מסמך',\n",
       " 'תצלום משפחתי (תצלומים)': 'תצלום משפחתי;תצלום משפחתי (תצלומים);',\n",
       " 'תצלום פורטרט (תצלומים)': 'תצלום פורטרט;תצלום פורטרט (תצלומים);פורטרט;דיוקן',\n",
       " 'תצלום יח\"ץ (תצלומים)': 'תצלום יח\"צ;תצלום יח\"ץ (תצלומים);',\n",
       " 'תצלום פרט (תצלומים)': 'תצלום פרט;תצלום פרט (תצלומים);תקריב;מקרב',\n",
       " 'חומר גרפי/אמנות': 'חומר גרפי/אמנות;חומר גרפי/אמנות;',\n",
       " 'איור (חומר גרפי/אמנות)': 'איור;איור (חומר גרפי/אמנות);אילוסטרציה;רישום',\n",
       " 'סקיצה (חומר גרפי/אמנות)': 'סקיצה;סקיצה (חומר גרפי/אמנות);סקיצה ראשונית;סקיצה רעיונית;שרבוט; רישום רעיוני;רישום קונספטואלי;מתוה;רשמת',\n",
       " 'סקיצת תלבושות (חומר גרפי/אמנות)': 'סקיצת תלבושות;סקיצת תלבושות (חומר גרפי/אמנות);',\n",
       " 'עיצוב גרפי (חומר גרפי/אמנות)': 'עיצוב גרפי;עיצוב גרפי (חומר גרפי/אמנות);מיתוג;פונט;גופן;לוגו;סמליל;ניירת משרדית',\n",
       " 'ציור (חומר גרפי/אמנות)': 'ציור;ציור (חומר גרפי/אמנות);רישום (אמנותי) ;גרפיקה;אקורל;פסטל',\n",
       " 'רישום (חומר גרפי/אמנות)': 'רישום;רישום (חומר גרפי/אמנות);',\n",
       " 'מסמכים-כללי': 'מסמכים - כללי;מסמכים-כללי;מסמך',\n",
       " 'טיוטה (מסמכים-כללי)': 'טיוטה;טיוטה (מסמכים-כללי);',\n",
       " 'מסמכים אקדמיים (מסמכים-כללי)': 'מסמכים אקדמיים;מסמכים אקדמיים (מסמכים-כללי);מערך שיעור;סיכומי שיעור; הרצאה;מצגת',\n",
       " 'עבודה אקדמית (מסמכים-כללי)': 'עבודה אקדמית;עבודה אקדמית (מסמכים-כללי);',\n",
       " 'כתב תנועה (מסמכים-כללי)': 'כתב תנועה;כתב תנועה (מסמכים-כללי);',\n",
       " 'תעודה (מסמכים-כללי)': 'תעודה;תעודה (מסמכים-כללי);פרס;תעודת הוקרה;תעודה מקצועית',\n",
       " 'מסמך מוזיקלי (מסמכים-כללי)': 'מסמך מוזיקלי;מסמך מוזיקלי (מסמכים-כללי);',\n",
       " 'ליברטי (מסמכים-כללי)': 'ליברטי;ליברטי (מסמכים-כללי);ליברטו',\n",
       " 'פרטיטורה (מסמכים-כללי)': 'פרטיטורה;פרטיטורה (מסמכים-כללי);',\n",
       " 'תווים (מסמכים-כללי)': 'תווים;תווים (מסמכים-כללי);',\n",
       " 'תמלול ראיון (מסמכים-כללי)': 'תמלול ראיון;תמלול ראיון (מסמכים-כללי);',\n",
       " 'מסמכים מנהליים': 'מסמכים מנהליים;מסמכים מנהליים;',\n",
       " 'מסמך מנהלי (מסמכים מנהליים)': 'מסמך מנהלי;מסמך מנהלי (מסמכים מנהליים);רשימת פרסומים;מצגת;תקציב;תכנית שנתית',\n",
       " 'הודעה לעיתונות (מסמכים מנהליים)': 'הודעה לעיתונות;הודעה לעיתונות (מסמכים מנהליים);',\n",
       " 'חוזה (מסמכים מנהליים)': 'חוזה;חוזה (מסמכים מנהליים);',\n",
       " 'מכתב רשמי (מסמכים מנהליים)': 'מכתב רשמי;מכתב רשמי (מסמכים מנהליים);מכתב מקוון (דוא\"ל);מברק',\n",
       " 'נייר מכתבים (מסמכים מנהליים)': 'נייר מכתבים;נייר מכתבים (מסמכים מנהליים);',\n",
       " 'פנקס (מסמכים מנהליים)': 'פנקס;פנקס (מסמכים מנהליים);',\n",
       " 'פרוטוקול (מסמכים מנהליים)': 'פרוטוקול;פרוטוקול (מסמכים מנהליים);דו\"ח',\n",
       " 'רשימה (מסמכים מנהליים)': 'רשימה;רשימה (מסמכים מנהליים);',\n",
       " 'רשימת פרסומים (מסמכים מנהליים)': 'רשימת פרסומים;רשימת פרסומים (מסמכים מנהליים);',\n",
       " 'תכתובת (מסמכים מנהליים)': 'תכתובת;תכתובת (מסמכים מנהליים);',\n",
       " 'מסמכים אישיים': 'מסמכים אישיים;מסמכים אישיים;',\n",
       " 'מכתב אישי (מסמכים אישיים)': 'מכתב אישי;מכתב אישי (מסמכים אישיים);מכתב מקוון;דוא\"ל;מברק',\n",
       " 'מסמך אישי (מסמכים אישיים)': 'מסמך אישי;מסמך אישי (מסמכים אישיים);',\n",
       " 'יומן אישי (מסמכים אישיים)': 'יומן אישי;יומן אישי (מסמכים אישיים);',\n",
       " 'רשימה אישית (מסמכים אישיים)': 'רשימה אישית;רשימה אישית (מסמכים אישיים);',\n",
       " 'חולפות': 'חולפות;חולפות;',\n",
       " 'בול דואר (חולפות)': 'בול דואר;בול דואר (חולפות);',\n",
       " 'גלויה (חולפות)': 'גלויה;גלויה (חולפות);',\n",
       " 'הזמנה (חולפות)': 'הזמנה;הזמנה (חולפות);',\n",
       " 'כרזה (חולפות)': 'כרזה;כרזה (חולפות);',\n",
       " 'כרטיס (חולפות)': 'כרטיס;כרטיס (חולפות);כרטיס ביקור;כרטיס ברכה;כרטיס כניסה',\n",
       " 'מודעה (חולפות)': 'מודעה;מודעה (חולפות);',\n",
       " 'עלון (חולפות)': 'עלון;עלון (חולפות);פלייר;פלאייר',\n",
       " 'קטלוג (חולפות)': 'קטלוג;קטלוג (חולפות);',\n",
       " 'קטלוג מורכב (חולפות)': 'קטלוג מורכב;קטלוג מורכב (חולפות);',\n",
       " 'תכנייה (חולפות)': 'תכנייה;תכנייה (חולפות);תכניה',\n",
       " 'תכנייה מורכבת (חולפות)': 'תכנייה מורכבת;תכנייה מורכבת (חולפות);תכניה מורכבת',\n",
       " 'יצירה ספרותית': 'יצירה ספרותית;יצירה ספרותית;',\n",
       " 'מסה (יצירה ספרותית)': 'מסה;מסה (יצירה ספרותית);',\n",
       " 'מחזה (יצירה ספרותית)': 'מחזה;מחזה (יצירה ספרותית);',\n",
       " 'טקסט מוער (יצירה ספרותית)': 'טקסט מוער;טקסט מוער (יצירה ספרותית);טקסט עבודה',\n",
       " 'שירה (יצירה ספרותית)': 'שירה;שירה (יצירה ספרותית);שיר',\n",
       " 'נאום (יצירה ספרותית)': 'נאום;נאום (יצירה ספרותית);הרצאה;דברי פתיחה',\n",
       " 'רשימה (יצירה ספרותית)': 'רשימה;רשימה (יצירה ספרותית);',\n",
       " 'טיוטה (יצירה ספרותית)': 'טיוטה;טיוטה (יצירה ספרותית);',\n",
       " 'כתבים (יצירה ספרותית)': 'כתבים;כתבים (יצירה ספרותית);תסכית;תסריט;סיפור;כתב יד (לדוגמה לספר);תמלול שידור טלוויזיה/רדיו',\n",
       " 'תכניות ושרטוטים': 'תכניות ושרטוטים;תכניות ושרטוטים;שרטוטים ותכניות;תוכניות ושרטוטים;שרטוטים ותוכניות',\n",
       " 'גליון הגשה לרשויות (תכניות ושרטוטים)': 'גליון הגשה לרשויות;גליון הגשה לרשויות (תכניות ושרטוטים);תכנית הגשה;תכנית הגשה לרשויות;גרמושקה;גיליון הגשה לרשויות',\n",
       " 'דיאגרמה (תכניות ושרטוטים)': 'דיאגרמה;דיאגרמה (תכניות ושרטוטים);סכמה',\n",
       " 'טבלת חישובי שטחים (תכניות ושרטוטים)': 'טבלת חישובי שטחים;טבלת חישובי שטחים (תכניות ושרטוטים);',\n",
       " 'כתב כמויות (תכניות ושרטוטים)': 'כתב כמויות;כתב כמויות (תכניות ושרטוטים);רשימת כמויות;רשימת פתחים;רשימת נגרות',\n",
       " 'מפת מדידה (תכניות ושרטוטים)': 'מפת מדידה;מפת מדידה (תכניות ושרטוטים);תכנית מדידה; מפה מצבית',\n",
       " 'מפת תכנון (תכניות ושרטוטים)': 'מפת תכנון;מפת תכנון (תכניות ושרטוטים);',\n",
       " 'פרט בניין (תכניות ושרטוטים)': 'פרט בניין;פרט בניין (תכניות ושרטוטים);פרט נגרות;פרט ריהוט',\n",
       " 'רישום אדריכלי (תכניות ושרטוטים)': 'רישום אדריכלי;רישום אדריכלי (תכניות ושרטוטים);פרספקטיבה;איזומטריה;אובליק;אקסונומטריה;ציור;הדמיה',\n",
       " 'שרטוט (תכניות ושרטוטים)': 'שרטוט;שרטוט (תכניות ושרטוטים);תכנית; חתך;חזית;שירטוט',\n",
       " 'תכנון עירוני (תכניות ושרטוטים)': 'תכנון עירוני;תכנון עירוני (תכניות ושרטוטים);תכנית עירונית; תכנון אורבני; תכנית אורבנית; תכנית אב',\n",
       " 'תכנית בינוי (תכניות ושרטוטים)': 'תכנית בינוי;תכנית בינוי (תכניות ושרטוטים);תכנית כללית;תכנית האתר;תכנית סביבה; תכנית העמדה',\n",
       " 'תכנית בניין עיר (תכניות ושרטוטים)': 'תכנית בניין עיר;תכנית בניין עיר (תכניות ושרטוטים);תב\"ע;תכנית מתאר;אזור',\n",
       " 'תכניות הגשה (תכניות ושרטוטים)': 'תכניות הגשה;תכניות הגשה (תכניות ושרטוטים);חוברת אדריכלית; קטלוג אדריכלי; פאנל הגשה',\n",
       " 'תכנית נוף (תכניות ושרטוטים)': 'תכנית נוף;תכנית נוף (תכניות ושרטוטים);תכנית גינון;תכנית נוי;תכנית שתילה;תכנית פיתוח;תכנית פיתוח שטח',\n",
       " 'תכנית עבודה (תכניות ושרטוטים)': 'תכנית עבודה;תכנית עבודה (תכניות ושרטוטים);תכנית ביצוע;תכנית חשמל;תכנית אינסטלציה;תכנית מערכות;תכנית הנדסית',\n",
       " 'סקיצה (תכניות ושרטוטים)': 'סקיצה;סקיצה (תכניות ושרטוטים);סקיצה ראשונית;סקיצה רעיונית;שרבוט; רישום רעיוני;רישום קונספטואלי;מתוה;רשמת',\n",
       " 'תשריט (תכניות ושרטוטים)': 'תשריט;תשריט (תכניות ושרטוטים);',\n",
       " 'מפת תאורה (תכניות ושרטוטים)': 'מפת תאורה;מפת תאורה (תכניות ושרטוטים);',\n",
       " 'רשימת קיואו (תכניות ושרטוטים)': 'רשימת קיואים;רשימת קיואו (תכניות ושרטוטים);רשימת קיו',\n",
       " 'תכנית במה (תכניות ושרטוטים)': 'תכנית במה;תכנית במה (תכניות ושרטוטים);',\n",
       " 'פרסומים': 'פרסומים;פרסומים;',\n",
       " 'חומר קרטוגרפי (פרסומים)': 'חומר קרטוגרפי;חומר קרטוגרפי (פרסומים);',\n",
       " 'אטלס (פרסומים)': 'אטלס;אטלס (פרסומים);',\n",
       " 'מפה (פרסומים)': 'מפה;מפה (פרסומים);',\n",
       " 'ספר (פרסומים)': 'ספר;ספר (פרסומים);',\n",
       " 'כריכת ספר (פרסומים)': 'כריכת ספר;כריכת ספר (פרסומים);',\n",
       " 'עטיפת תקליט (פרסומים)': 'עטיפת תקליט;עטיפת תקליט (פרסומים);',\n",
       " 'מאמר בספר (פרסומים)': 'מאמר בספר;מאמר בספר (פרסומים);',\n",
       " 'ספר מוער (פרסומים)': 'ספר מוער;ספר מוער (פרסומים);',\n",
       " 'אלבום קטעי עיתונות (פרסומים)': 'אלבום קטעי עיתונות;אלבום קטעי עיתונות (פרסומים);',\n",
       " 'מאמר בכתב עת - חו\"ל (פרסומים)': 'מאמר בכתב עת - חו\"ל;מאמר בכתב עת - חו\"ל (פרסומים);',\n",
       " 'מאמר בכתב עת - ישראל (פרסומים)': 'מאמר בכתב עת - ישראל;מאמר בכתב עת - ישראל (פרסומים);',\n",
       " 'מאמר בעיתון יומי - חו\"ל (פרסומים)': 'מאמר בעיתון יומי - חו\"ל;מאמר בעיתון יומי - חו\"ל (פרסומים);',\n",
       " 'מאמר בעיתון יומי - ישראל (פרסומים)': 'מאמר בעיתון יומי - ישראל;מאמר בעיתון יומי - ישראל (פרסומים);',\n",
       " 'מגזין - חו\"ל (פרסומים)': 'מגזין - חו\"ל;מגזין - חו\"ל (פרסומים);',\n",
       " 'מגזין - ישראל (פרסומים)': 'מגזין - ישראל;מגזין - ישראל (פרסומים);',\n",
       " 'עיתון - חו\"ל (פרסומים)': 'עיתון - חו\"ל;עיתון - חו\"ל (פרסומים);',\n",
       " 'עיתון - ישראל (פרסומים)': 'עיתון - ישראל;עיתון - ישראל (פרסומים);',\n",
       " 'פרסום מקוון (פרסומים)': 'פרסום מקוון;פרסום מקוון (פרסומים);',\n",
       " 'קומיקס (פרסומים)': 'קומיקס;קומיקס (פרסומים);',\n",
       " 'ריבוי': 'ריבוי;ריבוי;',\n",
       " 'תיק הצגה (ריבוי)': 'תיק הצגה;תיק הצגה (ריבוי);',\n",
       " 'שמע': 'שמע;שמע;',\n",
       " 'הופעה מול קהל (שמע)': 'הופעה מול קהל;הופעה מול קהל (שמע);הרצאה;שיעור;נאום;סדנה',\n",
       " 'משדר (שמע)': 'משדר;משדר (שמע);מִשְׁדָּר;שידור ברדיו;תכנית רדיו;תסכית',\n",
       " 'פסקול (שמע)': 'פסקול;פסקול (שמע);פסקול למופע;מוזיקה מתוך ההופעה;מוזיקה להופעות',\n",
       " 'ראיון (שמע)': 'ראיון;ראיון (שמע);ראיון לתכנית רדיו;ראיון אישי;עדות',\n",
       " 'הדרכה קולית (שמע)': 'הדרכה קולית;הדרכה קולית (שמע);מדריך קולי;הדרכת דיקציה;שינון טקסטים',\n",
       " 'הקלטת דמו (שמע)': 'הקלטת דמו;הקלטת דמו (שמע);הקלטה נסיונית;הקלטה ביתית;סקיצה;',\n",
       " 'תמונות נעות': 'תמונות נעות;תמונות נעות;',\n",
       " 'הופעה מול קהל (תמונות נעות)': 'הופעה מול קהל;הופעה מול קהל (תמונות נעות);הרצאה;נאום;שיעור;סדנה',\n",
       " 'הופעה/הצגה (תמונות נעות)': 'הופעה/הצגה;הופעה/הצגה (תמונות נעות);תיעוד של הופעה או הצגה',\n",
       " 'חזרה (תמונות נעות)': 'חזרה;חזרה (תמונות נעות);צילום של חזרה',\n",
       " 'משדר (תמונות נעות)': 'משדר;משדר (תמונות נעות);מִשְׁדָּר טלוויזיה;שידור בטלוויזיה;תכנית טלוויזיה',\n",
       " 'סרטי הפקה (תמונות נעות)': 'סרטי הפקה;סרטי הפקה (תמונות נעות);סרט;סרט עלילתי;סרט דוקומנטרי;סרט תיעודי',\n",
       " 'סרטונים ביתיים (תמונות נעות)': 'סרטים ביתיים;סרטונים ביתיים (תמונות נעות);וידאו משפחתי;סרטון משפחתי;וידאו ביתי;סרטון ביתי',\n",
       " 'אירוע (תמונות נעות)': 'אירוע;אירוע (תמונות נעות);תיעוד אירוע',\n",
       " 'ראיון (תמונות נעות)': 'ראיון;ראיון (תמונות נעות);ראיון לתכנית טלוויזיה;ראיון וידאו;עדות מצולמת'}"
      ]
     },
     "execution_count": 93,
     "metadata": {},
     "output_type": "execute_result"
    }
   ],
   "source": [
    "values_list = list(set(filter(None,\";\".join(collection.df_final_data[\"סוג חומר\"].tolist()).split(\";\"))))"
   ]
  },
  {
   "cell_type": "code",
   "execution_count": 104,
   "metadata": {},
   "outputs": [],
   "source": [
    "values_list.append(\"עבודה אקדמית\")"
   ]
  },
  {
   "cell_type": "code",
   "execution_count": 105,
   "metadata": {},
   "outputs": [
    {
     "ename": "TypeError",
     "evalue": "fix_original() missing 3 required positional arguments: 'col', 'error_words', and 'new_values'",
     "output_type": "error",
     "traceback": [
      "\u001b[1;31m---------------------------------------------------------------------------\u001b[0m",
      "\u001b[1;31mTypeError\u001b[0m                                 Traceback (most recent call last)",
      "\u001b[1;32m<ipython-input-105-b4a702d5706a>\u001b[0m in \u001b[0;36m<module>\u001b[1;34m\u001b[0m\n\u001b[0;32m      1\u001b[0m \u001b[1;32mfrom\u001b[0m \u001b[0mVC_collections\u001b[0m\u001b[1;33m.\u001b[0m\u001b[0mauthorities\u001b[0m \u001b[1;32mimport\u001b[0m \u001b[0mconvert_dict\u001b[0m\u001b[1;33m,\u001b[0m \u001b[0mfix_original\u001b[0m\u001b[1;33m\u001b[0m\u001b[1;33m\u001b[0m\u001b[0m\n\u001b[0;32m      2\u001b[0m \u001b[1;33m\u001b[0m\u001b[0m\n\u001b[1;32m----> 3\u001b[1;33m \u001b[0mfix_original\u001b[0m\u001b[1;33m(\u001b[0m\u001b[1;33m)\u001b[0m\u001b[1;33m\u001b[0m\u001b[1;33m\u001b[0m\u001b[0m\n\u001b[0m\u001b[0;32m      4\u001b[0m \u001b[1;33m\u001b[0m\u001b[0m\n\u001b[0;32m      5\u001b[0m \u001b[0mauth_list\u001b[0m \u001b[1;33m=\u001b[0m \u001b[0mconvert_dict\u001b[0m\u001b[1;33m(\u001b[0m\u001b[0mAuthority_instance\u001b[0m\u001b[1;33m.\u001b[0m\u001b[0march_mat_search_dict\u001b[0m\u001b[1;33m)\u001b[0m\u001b[1;33m\u001b[0m\u001b[1;33m\u001b[0m\u001b[0m\n",
      "\u001b[1;31mTypeError\u001b[0m: fix_original() missing 3 required positional arguments: 'col', 'error_words', and 'new_values'"
     ]
    }
   ],
   "source": [
    "from VC_collections.authorities import convert_dict, fix_original\n",
    "\n",
    "fix_original()\n",
    "\n",
    "auth_list = convert_dict(Authority_instance.arch_mat_search_dict)\n",
    "auth_list"
   ]
  },
  {
   "cell_type": "code",
   "execution_count": 106,
   "metadata": {},
   "outputs": [
    {
     "name": "stdout",
     "output_type": "stream",
     "text": [
      "original תכתובת (מסמכים מנהליים) is in Authorities\n",
      "original תצלום (תצלומים) is in Authorities\n",
      "original חזרה (תמונות נעות) is in Authorities\n",
      "original קטלוג מורכב (חולפות) is in Authorities\n",
      "original תכניות הגשה (תכניות ושרטוטים) is in Authorities\n",
      "original נאום (יצירה ספרותית) is in Authorities\n",
      "original איור (חומר גרפי/אמנות) is in Authorities\n",
      "original תכנייה (חולפות) is in Authorities\n",
      "original סרטי הפקה (תמונות נעות) is in Authorities\n",
      "original סקיצה (חומר גרפי/אמנות) is in Authorities\n",
      "original כתבים (יצירה ספרותית) is in Authorities\n",
      "original סקיצת תלבושות (חומר גרפי/אמנות) is in Authorities\n",
      "original פרט בניין (תכניות ושרטוטים) is in Authorities\n",
      "original מפה (פרסומים) is in Authorities\n",
      "original ציור (חומר גרפי/אמנות) is in Authorities\n",
      "original כרזה (חולפות) is in Authorities\n",
      "original פרסום מקוון (פרסומים) is in Authorities\n",
      "original רשימה (יצירה ספרותית) is in Authorities\n",
      "original עלון (חולפות) is in Authorities\n",
      "original מאמר בעיתון יומי - ישראל (פרסומים) is in Authorities\n",
      "original הודעה לעיתונות (מסמכים מנהליים) is in Authorities\n",
      "original עטיפת תקליט (פרסומים) is in Authorities\n",
      "original עיצוב גרפי (חומר גרפי/אמנות) is in Authorities\n",
      "original גלויה (חולפות) is in Authorities\n",
      "original ראיון (תמונות נעות) is in Authorities\n",
      "original תמלול ראיון (מסמכים-כללי) is in Authorities\n",
      "original סרטונים ביתיים (תמונות נעות) is in Authorities\n",
      "original רשימה (מסמכים מנהליים) is in Authorities\n",
      "original תכנית נוף (תכניות ושרטוטים) is in Authorities\n",
      "original מאמר בכתב עת - חו\"ל (פרסומים) is in Authorities\n",
      "original פרוטוקול (מסמכים מנהליים) is in Authorities\n",
      "original תכנית בינוי (תכניות ושרטוטים) is in Authorities\n",
      "original הופעה/הצגה (תמונות נעות) is in Authorities\n",
      "original טיוטה (יצירה ספרותית) is in Authorities\n",
      "original ספר (פרסומים) is in Authorities\n",
      "original מסמכים אקדמיים (מסמכים-כללי) is in Authorities\n",
      "original ריבוי is in Authorities\n",
      "original מאמר בעיתון יומי - חו\"ל (פרסומים) is in Authorities\n",
      "original מאמר בספר (פרסומים) is in Authorities\n",
      "original מכתב אישי (מסמכים אישיים) is in Authorities\n",
      "original שרטוט (תכניות ושרטוטים) is in Authorities\n",
      "original קטלוג (חולפות) is in Authorities\n",
      "original הזמנה (חולפות) is in Authorities\n",
      "original טיוטה (מסמכים-כללי) is in Authorities\n",
      "original תצלום פורטרט (תצלומים) is in Authorities\n",
      "original אירוע (תמונות נעות) is in Authorities\n",
      "original תצלום חפץ (תצלומים) is in Authorities\n",
      "original מסמך אישי (מסמכים אישיים) is in Authorities\n",
      "original אלבום קטעי עיתונות (פרסומים) is in Authorities\n",
      "original מאמר בכתב עת - ישראל (פרסומים) is in Authorities\n",
      "original משדר (תמונות נעות) is in Authorities\n",
      "original תכנייה מורכבת (חולפות) is in Authorities\n",
      "original מכתב רשמי (מסמכים מנהליים) is in Authorities\n",
      "original כרטיס (חולפות) is in Authorities\n",
      "original תעודה (מסמכים-כללי) is in Authorities\n",
      "original פנקס (מסמכים מנהליים) is in Authorities\n",
      "original רשימה אישית (מסמכים אישיים) is in Authorities\n",
      "original מסמך מנהלי (מסמכים מנהליים) is in Authorities\n",
      "original שירה (יצירה ספרותית) is in Authorities\n",
      "original חוזה (מסמכים מנהליים) is in Authorities\n",
      "original טקסט מוער (יצירה ספרותית) is in Authorities\n",
      "original סקיצה (תכניות ושרטוטים) is in Authorities\n",
      "original משדר (שמע) is in Authorities\n",
      "original תצלום אירוע (תצלומים) is in Authorities\n",
      "original מודעה (חולפות) is in Authorities\n",
      "!!!!!!original ניסיון not in Authorities\n",
      "!!!!!!original ניסיון not in Authorities\n",
      "!!!!!!original ניסיון not in Authorities\n",
      "original עבודה אקדמית is in Authorities\n"
     ]
    }
   ],
   "source": [
    "values_not_found = []\n",
    "\n",
    "for value in values_list:\n",
    "    if value in auth_list.keys():\n",
    "        print(f'original {value} is in Authorities')\n",
    "    else:\n",
    "        print(f'!!!!!!original {value} not in Authorities') \n",
    "        values_not_found.append(value)"
   ]
  },
  {
   "cell_type": "code",
   "execution_count": 107,
   "metadata": {},
   "outputs": [
    {
     "data": {
      "text/plain": [
       "['עבודה אקדמית (מסמכים-כללי)']"
      ]
     },
     "execution_count": 107,
     "metadata": {},
     "output_type": "execute_result"
    }
   ],
   "source": [
    "auth_list['עבודה אקדמית']"
   ]
  },
  {
   "cell_type": "code",
   "execution_count": 88,
   "metadata": {},
   "outputs": [
    {
     "data": {
      "text/plain": [
       "1765"
      ]
     },
     "execution_count": 88,
     "metadata": {},
     "output_type": "execute_result"
    }
   ],
   "source": [
    "len(list(filter(None,\";\".join(collection.df_final_data[\"סוג חומר\"].tolist()).split(\";\"))))\n"
   ]
  },
  {
   "cell_type": "code",
   "execution_count": 74,
   "metadata": {},
   "outputs": [],
   "source": [
    "with open(r'Data\\VIS_907.json') as json_file:\n",
    "    rosetta_dict = json.load(json_file)"
   ]
  },
  {
   "cell_type": "code",
   "execution_count": null,
   "metadata": {},
   "outputs": [],
   "source": [
    "rosetta_dict"
   ]
  },
  {
   "cell_type": "code",
   "execution_count": null,
   "metadata": {},
   "outputs": [],
   "source": [
    "Collection.collection_field_mapper.keys()"
   ]
  },
  {
   "cell_type": "code",
   "execution_count": null,
   "metadata": {},
   "outputs": [],
   "source": [
    "from VC_collections.AuthorityFiles import Authority_instance\n",
    "import pprint\n",
    "from collections import defaultdict"
   ]
  },
  {
   "cell_type": "code",
   "execution_count": null,
   "metadata": {},
   "outputs": [],
   "source": [
    "def convert_dict(new_val2errs):\n",
    "    d = defaultdict(list)\n",
    "    for nv, errs in new_val2errs.items():\n",
    "        if type(errs) == str:\n",
    "            errs = errs.split(\";\")\n",
    "        for err in errs:\n",
    "            if err != \"\":\n",
    "                d[err].append(nv)\n",
    "    return d\n",
    "\n",
    "pprint.pprint(convert_dict(Authority_instance.arch_mat_search_dict))"
   ]
  },
  {
   "cell_type": "code",
   "execution_count": null,
   "metadata": {},
   "outputs": [],
   "source": [
    "pprint.pprint(Authority_instance.arch_mat_search_dict)"
   ]
  },
  {
   "cell_type": "code",
   "execution_count": null,
   "metadata": {},
   "outputs": [],
   "source": [
    "Authority_instance.df_media_format_auth[Authority_instance.df_media_format_auth[\"MEDIA_FORMAT\"].str.contains(\"עץ\")]"
   ]
  },
  {
   "cell_type": "code",
   "execution_count": null,
   "metadata": {},
   "outputs": [],
   "source": [
    "import pandas as pd"
   ]
  },
  {
   "cell_type": "code",
   "execution_count": null,
   "metadata": {},
   "outputs": [],
   "source": [
    "privacy_mapping_dict = pd.Series(Authority_instance.df_privacy_values[\"רמיזות\"].values,\n",
    "                                 index=Authority_instance.df_privacy_values.index.values).to_dict()"
   ]
  },
  {
   "cell_type": "code",
   "execution_count": null,
   "metadata": {},
   "outputs": [],
   "source": [
    "privacy_mapping_dict"
   ]
  },
  {
   "cell_type": "code",
   "execution_count": null,
   "metadata": {},
   "outputs": [],
   "source": [
    "import pandas as pd"
   ]
  },
  {
   "cell_type": "code",
   "execution_count": null,
   "metadata": {},
   "outputs": [],
   "source": [
    "search_dict = pd.Series(Authority_instance.df_privacy_values[\"רמיזות\"].apply(lambda x: x.split(\";\")), \n",
    "                                                               index = Authority_instance.df_privacy_values.index.values).to_dict()"
   ]
  },
  {
   "cell_type": "code",
   "execution_count": null,
   "metadata": {},
   "outputs": [],
   "source": [
    "new_search_dict = {}\n",
    "\n",
    "for key, value in search_dict.items():\n",
    "    if len(value)>1:\n",
    "        for item in value:\n",
    "            new_search_dict[item] = key\n",
    "    else:\n",
    "        new_search_dict[value[0]] = key"
   ]
  },
  {
   "cell_type": "code",
   "execution_count": null,
   "metadata": {},
   "outputs": [],
   "source": [
    "new_search_dict.keys()"
   ]
  },
  {
   "cell_type": "code",
   "execution_count": null,
   "metadata": {},
   "outputs": [],
   "source": [
    "from VC_collections.authorities import convert_dict\n",
    "convert_dict(new_search_dict)"
   ]
  },
  {
   "cell_type": "code",
   "execution_count": null,
   "metadata": {},
   "outputs": [],
   "source": [
    "for key, value in convert_dict(new_search_dict).items():\n",
    "    print(f'key:{key}\\nvalue:{value}\\n')"
   ]
  },
  {
   "cell_type": "code",
   "execution_count": null,
   "metadata": {},
   "outputs": [],
   "source": [
    "Authority_instance.df_arch_mat_search[\"all_terms\"]"
   ]
  },
  {
   "cell_type": "code",
   "execution_count": null,
   "metadata": {},
   "outputs": [],
   "source": [
    "for key, value in Authority_instance.arch_mat_search_dict.items():\n",
    "    print(f'key:{key}\\nvalue:{value}\\n')\n"
   ]
  },
  {
   "cell_type": "markdown",
   "metadata": {},
   "source": [
    "# split creators"
   ]
  },
  {
   "cell_type": "code",
   "execution_count": null,
   "metadata": {},
   "outputs": [],
   "source": [
    "from VC_collections.AuthorityFiles import Authority_instance\n",
    "from VC_collections.authorities import find_role, find_name\n",
    "import pandas as pd"
   ]
  },
  {
   "cell_type": "code",
   "execution_count": null,
   "metadata": {},
   "outputs": [],
   "source": [
    "df = pd.ExcelFile(r'Data/PYaVa_Creators.xlsx').parse(\"Sheet1\")\n",
    "df = df.set_index(\"סימול\")"
   ]
  },
  {
   "cell_type": "code",
   "execution_count": null,
   "metadata": {},
   "outputs": [],
   "source": [
    "df[\"יוצר ראשי - איש\"] = ''\n",
    "df[\"סוג יוצר ראשי - איש\"] = ''\n",
    "df[\"יוצר ראשי - מוסד\"] = ''\n",
    "df[\"סוג יוצר ראשי - מוסד\"] = ''\n",
    "df[\"יוצרים נוספים - איש\"] = ''\n",
    "df[\"יוצרים נוספים - מוסד\"] = ''"
   ]
  },
  {
   "cell_type": "code",
   "execution_count": null,
   "metadata": {},
   "outputs": [],
   "source": [
    "\n",
    "def create_first(creators):\n",
    "\n",
    "    creator = creators.pop(0)\n",
    "    \n",
    "    return find_name(creator).strip(), find_role(creator).strip(), creators"
   ]
  },
  {
   "cell_type": "code",
   "execution_count": null,
   "metadata": {},
   "outputs": [],
   "source": [
    "import numpy as np\n",
    "roles_not_found = []\n",
    "\n",
    "for index, row in df.iterrows():\n",
    "\n",
    "    creators_pers = []\n",
    "    creators_corps = []\n",
    "    try:\n",
    "        creators = row[\"יוצרים\"].split(\";\")\n",
    "    except:\n",
    "        continue\n",
    "        \n",
    "    \n",
    "    \n",
    "    first_name, first_role, rest_creators = create_first(creators)\n",
    "    \n",
    "    if first_role in Authority_instance.roles_dict[\"pers_roles\"]:\n",
    "        df.loc[index, \"יוצר ראשי - איש\"] = first_name\n",
    "        df.loc[index, \"סוג יוצר ראשי - איש\"] = first_role\n",
    "    else:\n",
    "        df.loc[index, \"יוצר ראשי - מוסד\"] = first_name\n",
    "        df.loc[index, \"סוג יוצר ראשי - מוסד\"] = first_role\n",
    "    \n",
    "    for creator in rest_creators:\n",
    "        print(index)\n",
    "        role = find_role(creator).strip()\n",
    "        if role in Authority_instance.roles_dict[\"pers_roles\"]:\n",
    "            print(f'role: {role} is pers')\n",
    "            creators_pers.append(creator)\n",
    "        elif role in Authority_instance.roles_dict[\"corps_roles\"]:\n",
    "            creators_corps.append(creator)\n",
    "            print(f'role: {role} is corps')\n",
    "        else:\n",
    "            roles_not_found.append(creator)\n",
    "            \n",
    "    df.loc[index, \"יוצרים נוספים - איש\"] = \";\".join(creators_pers)\n",
    "    df.loc[index, \"יוצרים נוספים - מוסד\"] = \";\".join(creators_corps)\n",
    "    if len(roles_not_found) > 0:\n",
    "        print(roles_not_found)\n",
    "    "
   ]
  },
  {
   "cell_type": "code",
   "execution_count": null,
   "metadata": {},
   "outputs": [],
   "source": [
    "roles_not_found"
   ]
  },
  {
   "cell_type": "code",
   "execution_count": null,
   "metadata": {},
   "outputs": [],
   "source": [
    "df.to_excel(r'Data/PYaVa_creators_repair.xlsx')"
   ]
  },
  {
   "cell_type": "code",
   "execution_count": null,
   "metadata": {},
   "outputs": [],
   "source": [
    "collection.df_final_data[\"כותרת ערבית\"].empty"
   ]
  },
  {
   "cell_type": "code",
   "execution_count": null,
   "metadata": {},
   "outputs": [],
   "source": [
    "collection.df_final_data.columns"
   ]
  },
  {
   "cell_type": "code",
   "execution_count": null,
   "metadata": {},
   "outputs": [],
   "source": [
    "import pandas as pd"
   ]
  },
  {
   "cell_type": "code",
   "execution_count": null,
   "metadata": {},
   "outputs": [],
   "source": [
    "d= {'ניסיון': ['', '', '']}"
   ]
  },
  {
   "cell_type": "code",
   "execution_count": null,
   "metadata": {},
   "outputs": [],
   "source": [
    "test = pd.DataFrame(d)"
   ]
  },
  {
   "cell_type": "code",
   "execution_count": null,
   "metadata": {},
   "outputs": [],
   "source": [
    "\n",
    "len(test[test[\"ניסיון\"] != ''])"
   ]
  },
  {
   "cell_type": "code",
   "execution_count": 9,
   "metadata": {},
   "outputs": [
    {
     "data": {
      "text/plain": [
       "True"
      ]
     },
     "execution_count": 9,
     "metadata": {},
     "output_type": "execute_result"
    }
   ],
   "source": [
    "\"ArBe\" in Authority_instance.df_credits.index"
   ]
  },
  {
   "cell_type": "code",
   "execution_count": 11,
   "metadata": {},
   "outputs": [
    {
     "data": {
      "text/plain": [
       "'משרד האדריכלים \\'בסט אדריכלים ומתכנני ערים בע\"מ\\''"
      ]
     },
     "execution_count": 11,
     "metadata": {},
     "output_type": "execute_result"
    }
   ],
   "source": [
    "Authority_instance.df_credits.loc[\"ArBe\", \"מיקום הפקדה עבור בעלים נוכחי\"]"
   ]
  },
  {
   "cell_type": "code",
   "execution_count": 22,
   "metadata": {},
   "outputs": [],
   "source": [
    " test_data_with_dup = {\n",
    "            \"UNITID\": [\"ABCD\", \"ABCD\", \"ASDF\"]\n",
    "        }"
   ]
  },
  {
   "cell_type": "code",
   "execution_count": 23,
   "metadata": {},
   "outputs": [
    {
     "data": {
      "text/html": [
       "<div>\n",
       "<style scoped>\n",
       "    .dataframe tbody tr th:only-of-type {\n",
       "        vertical-align: middle;\n",
       "    }\n",
       "\n",
       "    .dataframe tbody tr th {\n",
       "        vertical-align: top;\n",
       "    }\n",
       "\n",
       "    .dataframe thead th {\n",
       "        text-align: right;\n",
       "    }\n",
       "</style>\n",
       "<table border=\"1\" class=\"dataframe\">\n",
       "  <thead>\n",
       "    <tr style=\"text-align: right;\">\n",
       "      <th></th>\n",
       "      <th>UNITID</th>\n",
       "    </tr>\n",
       "  </thead>\n",
       "  <tbody>\n",
       "    <tr>\n",
       "      <th>0</th>\n",
       "      <td>ABCD</td>\n",
       "    </tr>\n",
       "    <tr>\n",
       "      <th>1</th>\n",
       "      <td>ABCD</td>\n",
       "    </tr>\n",
       "    <tr>\n",
       "      <th>2</th>\n",
       "      <td>ASDF</td>\n",
       "    </tr>\n",
       "  </tbody>\n",
       "</table>\n",
       "</div>"
      ],
      "text/plain": [
       "  UNITID\n",
       "0   ABCD\n",
       "1   ABCD\n",
       "2   ASDF"
      ]
     },
     "execution_count": 23,
     "metadata": {},
     "output_type": "execute_result"
    }
   ],
   "source": [
    "df = pd.DataFrame(test_data_with_dup)\n",
    "df"
   ]
  },
  {
   "cell_type": "code",
   "execution_count": 24,
   "metadata": {},
   "outputs": [],
   "source": [
    "from VC_collections.columns import dupCheck\n",
    "import pandas as pd"
   ]
  },
  {
   "cell_type": "code",
   "execution_count": 25,
   "metadata": {},
   "outputs": [
    {
     "data": {
      "text/html": [
       "<div>\n",
       "<style scoped>\n",
       "    .dataframe tbody tr th:only-of-type {\n",
       "        vertical-align: middle;\n",
       "    }\n",
       "\n",
       "    .dataframe tbody tr th {\n",
       "        vertical-align: top;\n",
       "    }\n",
       "\n",
       "    .dataframe thead th {\n",
       "        text-align: right;\n",
       "    }\n",
       "</style>\n",
       "<table border=\"1\" class=\"dataframe\">\n",
       "  <thead>\n",
       "    <tr style=\"text-align: right;\">\n",
       "      <th></th>\n",
       "      <th>UNITID</th>\n",
       "    </tr>\n",
       "  </thead>\n",
       "  <tbody>\n",
       "    <tr>\n",
       "      <th>0</th>\n",
       "      <td>ABCD</td>\n",
       "    </tr>\n",
       "    <tr>\n",
       "      <th>1</th>\n",
       "      <td>ABCD</td>\n",
       "    </tr>\n",
       "  </tbody>\n",
       "</table>\n",
       "</div>"
      ],
      "text/plain": [
       "  UNITID\n",
       "0   ABCD\n",
       "1   ABCD"
      ]
     },
     "execution_count": 25,
     "metadata": {},
     "output_type": "execute_result"
    }
   ],
   "source": [
    "dupCheck(df, \"UNITID\")"
   ]
  },
  {
   "cell_type": "code",
   "execution_count": 21,
   "metadata": {},
   "outputs": [
    {
     "data": {
      "text/html": [
       "<div>\n",
       "<style scoped>\n",
       "    .dataframe tbody tr th:only-of-type {\n",
       "        vertical-align: middle;\n",
       "    }\n",
       "\n",
       "    .dataframe tbody tr th {\n",
       "        vertical-align: top;\n",
       "    }\n",
       "\n",
       "    .dataframe thead th {\n",
       "        text-align: right;\n",
       "    }\n",
       "</style>\n",
       "<table border=\"1\" class=\"dataframe\">\n",
       "  <thead>\n",
       "    <tr style=\"text-align: right;\">\n",
       "      <th></th>\n",
       "      <th>UNITID</th>\n",
       "    </tr>\n",
       "  </thead>\n",
       "  <tbody>\n",
       "    <tr>\n",
       "      <th>0</th>\n",
       "      <td>ABCD</td>\n",
       "    </tr>\n",
       "    <tr>\n",
       "      <th>1</th>\n",
       "      <td>ABCD</td>\n",
       "    </tr>\n",
       "  </tbody>\n",
       "</table>\n",
       "</div>"
      ],
      "text/plain": [
       "  UNITID\n",
       "0   ABCD\n",
       "1   ABCD"
      ]
     },
     "execution_count": 21,
     "metadata": {},
     "output_type": "execute_result"
    }
   ],
   "source": [
    "\n",
    "pd.concat(g for _, g in df.groupby(\"UNITID\") if len(g) > 1)"
   ]
  },
  {
   "cell_type": "code",
   "execution_count": 53,
   "metadata": {},
   "outputs": [],
   "source": [
    "import numpy as np\n",
    "df[\"test\"] = ''"
   ]
  },
  {
   "cell_type": "code",
   "execution_count": 54,
   "metadata": {},
   "outputs": [
    {
     "data": {
      "text/html": [
       "<div>\n",
       "<style scoped>\n",
       "    .dataframe tbody tr th:only-of-type {\n",
       "        vertical-align: middle;\n",
       "    }\n",
       "\n",
       "    .dataframe tbody tr th {\n",
       "        vertical-align: top;\n",
       "    }\n",
       "\n",
       "    .dataframe thead th {\n",
       "        text-align: right;\n",
       "    }\n",
       "</style>\n",
       "<table border=\"1\" class=\"dataframe\">\n",
       "  <thead>\n",
       "    <tr style=\"text-align: right;\">\n",
       "      <th></th>\n",
       "      <th>UNITID</th>\n",
       "      <th>test</th>\n",
       "    </tr>\n",
       "  </thead>\n",
       "  <tbody>\n",
       "    <tr>\n",
       "      <th>0</th>\n",
       "      <td>ABCD</td>\n",
       "      <td></td>\n",
       "    </tr>\n",
       "    <tr>\n",
       "      <th>1</th>\n",
       "      <td>ABCD</td>\n",
       "      <td></td>\n",
       "    </tr>\n",
       "    <tr>\n",
       "      <th>2</th>\n",
       "      <td>ASDF</td>\n",
       "      <td></td>\n",
       "    </tr>\n",
       "  </tbody>\n",
       "</table>\n",
       "</div>"
      ],
      "text/plain": [
       "  UNITID test\n",
       "0   ABCD     \n",
       "1   ABCD     \n",
       "2   ASDF     "
      ]
     },
     "execution_count": 54,
     "metadata": {},
     "output_type": "execute_result"
    }
   ],
   "source": [
    "df"
   ]
  },
  {
   "cell_type": "code",
   "execution_count": 62,
   "metadata": {},
   "outputs": [
    {
     "data": {
      "text/plain": [
       "False"
      ]
     },
     "execution_count": 62,
     "metadata": {},
     "output_type": "execute_result"
    }
   ],
   "source": [
    "df[\"test\"].dropna().empty"
   ]
  },
  {
   "cell_type": "code",
   "execution_count": 61,
   "metadata": {},
   "outputs": [],
   "source": [
    "df[\"test\"] = df[\"test\"].dropna()"
   ]
  },
  {
   "cell_type": "code",
   "execution_count": 63,
   "metadata": {},
   "outputs": [
    {
     "data": {
      "text/html": [
       "<div>\n",
       "<style scoped>\n",
       "    .dataframe tbody tr th:only-of-type {\n",
       "        vertical-align: middle;\n",
       "    }\n",
       "\n",
       "    .dataframe tbody tr th {\n",
       "        vertical-align: top;\n",
       "    }\n",
       "\n",
       "    .dataframe thead th {\n",
       "        text-align: right;\n",
       "    }\n",
       "</style>\n",
       "<table border=\"1\" class=\"dataframe\">\n",
       "  <thead>\n",
       "    <tr style=\"text-align: right;\">\n",
       "      <th></th>\n",
       "      <th>UNITID</th>\n",
       "      <th>test</th>\n",
       "    </tr>\n",
       "  </thead>\n",
       "  <tbody>\n",
       "    <tr>\n",
       "      <th>0</th>\n",
       "      <td>ABCD</td>\n",
       "      <td></td>\n",
       "    </tr>\n",
       "    <tr>\n",
       "      <th>1</th>\n",
       "      <td>ABCD</td>\n",
       "      <td></td>\n",
       "    </tr>\n",
       "    <tr>\n",
       "      <th>2</th>\n",
       "      <td>ASDF</td>\n",
       "      <td></td>\n",
       "    </tr>\n",
       "  </tbody>\n",
       "</table>\n",
       "</div>"
      ],
      "text/plain": [
       "  UNITID test\n",
       "0   ABCD     \n",
       "1   ABCD     \n",
       "2   ASDF     "
      ]
     },
     "execution_count": 63,
     "metadata": {},
     "output_type": "execute_result"
    }
   ],
   "source": [
    "df"
   ]
  },
  {
   "cell_type": "code",
   "execution_count": 47,
   "metadata": {},
   "outputs": [
    {
     "data": {
      "text/plain": [
       "False"
      ]
     },
     "execution_count": 47,
     "metadata": {},
     "output_type": "execute_result"
    }
   ],
   "source": [
    "df[\"test\"].empty"
   ]
  },
  {
   "cell_type": "code",
   "execution_count": 110,
   "metadata": {},
   "outputs": [],
   "source": [
    "test_008 = \"191104k19811981is#xx###############heb#d\""
   ]
  },
  {
   "cell_type": "code",
   "execution_count": 114,
   "metadata": {},
   "outputs": [
    {
     "data": {
      "text/plain": [
       "'191104k19841984is#xx###############heb#d'"
      ]
     },
     "execution_count": 114,
     "metadata": {},
     "output_type": "execute_result"
    }
   ],
   "source": [
    "test_008[:7]  + \"19841984\" + test_008[15:]"
   ]
  },
  {
   "cell_type": "code",
   "execution_count": 118,
   "metadata": {},
   "outputs": [],
   "source": [
    "from viapy import api"
   ]
  },
  {
   "cell_type": "code",
   "execution_count": 123,
   "metadata": {},
   "outputs": [],
   "source": [
    "from urllib.request import urlopen, quote\n",
    "# if you're running python 3, replace the above with the following:\n",
    "# from urllib.request import urlopen\n",
    "# from urllib.parse import quote\n",
    "\n",
    "def retrieve_viaf_search_results(search_index, search_term, auth_source):\n",
    "    # url search template formatted to allow easy variable insertion\n",
    "    search_url_template = 'http://viaf.org/viaf/search/viaf?query=local.{0}+all+{1}+and+local.sources+any+{2}&sortKeys=holdingscount&httpAccept=application/xml'\n",
    "    \n",
    "    # since we'll be inserting the three passed variables into the \n",
    "    # html search template, we need to make sure to \"escape\" any\n",
    "    # special characters. VIAF also requires that they be enclosed in\n",
    "    # quotes, which themselves have to be escaped. We can use urllib2's \n",
    "    # \"quote\" function for this:\n",
    "    auth_source = quote(f'\"{auth_source}\"')\n",
    "    search_term = quote(f'\"{search_term}\"')\n",
    "    \n",
    "    # build the full search url\n",
    "    search_url = search_url_template.format(search_index, search_term, auth_source)\n",
    "    \n",
    "    # query the url with urlopen and store the returned xml\n",
    "    response = urlopen(search_url).read()"
   ]
  },
  {
   "cell_type": "code",
   "execution_count": 124,
   "metadata": {},
   "outputs": [
    {
     "ename": "TypeError",
     "evalue": "retrieve_viaf_search_results() missing 1 required positional argument: 'auth_source'",
     "output_type": "error",
     "traceback": [
      "\u001b[1;31m---------------------------------------------------------------------------\u001b[0m",
      "\u001b[1;31mTypeError\u001b[0m                                 Traceback (most recent call last)",
      "\u001b[1;32m<ipython-input-124-0fb914ef18dd>\u001b[0m in \u001b[0;36m<module>\u001b[1;34m\u001b[0m\n\u001b[1;32m----> 1\u001b[1;33m \u001b[0mretrieve_viaf_search_results\u001b[0m\u001b[1;33m(\u001b[0m\u001b[1;34m\"persname\"\u001b[0m\u001b[1;33m,\u001b[0m \u001b[1;34m\"צרפתי, רות\"\u001b[0m\u001b[1;33m)\u001b[0m\u001b[1;33m\u001b[0m\u001b[1;33m\u001b[0m\u001b[0m\n\u001b[0m",
      "\u001b[1;31mTypeError\u001b[0m: retrieve_viaf_search_results() missing 1 required positional argument: 'auth_source'"
     ]
    }
   ],
   "source": [
    "retrieve_viaf_search_results(\"persname\", \"צרפתי, רות\")"
   ]
  },
  {
   "cell_type": "code",
   "execution_count": null,
   "metadata": {},
   "outputs": [],
   "source": []
  }
 ],
 "metadata": {
  "kernelspec": {
   "display_name": "Python 3",
   "language": "python",
   "name": "python3"
  },
  "language_info": {
   "codemirror_mode": {
    "name": "ipython",
    "version": 3
   },
   "file_extension": ".py",
   "mimetype": "text/x-python",
   "name": "python",
   "nbconvert_exporter": "python",
   "pygments_lexer": "ipython3",
   "version": "3.8.6rc1"
  }
 },
 "nbformat": 4,
 "nbformat_minor": 2
}
