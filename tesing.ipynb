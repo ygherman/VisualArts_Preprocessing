{
 "cells": [
  {
   "cell_type": "code",
   "execution_count": null,
   "metadata": {},
   "outputs": [],
   "source": [
    "from VC_collections import Collection\n",
    "from VC_collections.Collection import connect_to_google_drive\n",
    "\n",
    "import gspread"
   ]
  },
  {
   "cell_type": "code",
   "execution_count": null,
   "metadata": {},
   "outputs": [],
   "source": [
    "cred = Collection.get_google_drive_credentials()"
   ]
  },
  {
   "cell_type": "code",
   "execution_count": null,
   "metadata": {},
   "outputs": [],
   "source": [
    "client = gspread.authorize(cred)"
   ]
  },
  {
   "cell_type": "code",
   "execution_count": null,
   "metadata": {
    "tags": []
   },
   "outputs": [],
   "source": [
    "len(client.list_spreadsheet_files())"
   ]
  },
  {
   "cell_type": "code",
   "execution_count": 1,
   "metadata": {},
   "outputs": [],
   "source": [
    "from VC_collections.AuthorityFiles import Authority_instance"
   ]
  },
  {
   "cell_type": "code",
   "execution_count": null,
   "metadata": {},
   "outputs": [],
   "source": [
    "Authority_instance.df_privacy_values"
   ]
  },
  {
   "cell_type": "code",
   "execution_count": 2,
   "metadata": {},
   "outputs": [
    {
     "data": {
      "text/plain": [
       "{'אין מגבלת פרטיות': 'אין מגבלת פרטיות',\n",
       " 'ללא מגבלות פרטיות': 'אין מגבלת פרטיות',\n",
       " 'בלי מגבלת פרטיות': 'אין מגבלת פרטיות',\n",
       " 'ללא': 'אין מגבלת פרטיות',\n",
       " 'לא': 'אין מגבלת פרטיות',\n",
       " 'פרטיות נתונים אישים': 'פרטיות נתונים אישיים',\n",
       " 'פרטיות - נתונים אישים': 'פרטיות נתונים אישיים',\n",
       " 'פרטיות מידע רגיש': 'פרטיות מידע רגיש',\n",
       " 'פרטיות - מידע רגיש': 'פרטיות מידע רגיש',\n",
       " 'פרטיות מידע רפואי': 'פרטיות מידע רפואי',\n",
       " 'פרטיות - מידע רפואי': 'פרטיות מידע רפואי',\n",
       " 'פרטיות מידע סוציאלי (רווחה)': 'פרטיות מידע סוציאלי (רווחה)',\n",
       " 'פרטיות - מידע סוציאלי (רווחה)': 'פרטיות מידע סוציאלי (רווחה)',\n",
       " 'פרטיות תנאי העסקה': 'פרטיות תנאי העסקה',\n",
       " 'פרטיות - תנאי העסקה': 'פרטיות תנאי העסקה',\n",
       " 'פרטיות קטינים': 'פרטיות קטינים',\n",
       " 'פרטיות - קטינים': 'פרטיות קטינים',\n",
       " 'פרטיות אחר': 'פרטיות אחר',\n",
       " 'פרטיות - אחר': 'פרטיות אחר',\n",
       " 'פרטיות לבדיקה': 'פרטיות לבדיקה',\n",
       " 'פרטיות - לבדיקה': 'פרטיות לבדיקה',\n",
       " 'לבירור': 'פרטיות לבדיקה',\n",
       " 'פרטיות הסכמים חוזים': 'פרטיות הסכמים חוזים',\n",
       " 'פרטיות - הסכמים חוזים': 'פרטיות הסכמים חוזים'}"
      ]
     },
     "execution_count": 2,
     "metadata": {},
     "output_type": "execute_result"
    }
   ],
   "source": [
    "Authority_instance.privacy_search_dict"
   ]
  },
  {
   "cell_type": "code",
   "execution_count": null,
   "metadata": {},
   "outputs": [],
   "source": [
    "import pandas as pd"
   ]
  },
  {
   "cell_type": "code",
   "execution_count": null,
   "metadata": {},
   "outputs": [],
   "source": [
    "search_dict = pd.Series(Authority_instance.df_privacy_values[\"רמיזות\"].apply(lambda x: x.split(\";\")), \n",
    "                                                               index = Authority_instance.df_privacy_values.index.values).to_dict()"
   ]
  },
  {
   "cell_type": "code",
   "execution_count": null,
   "metadata": {},
   "outputs": [],
   "source": [
    "new_search_dict = {}\n",
    "\n",
    "for key, value in search_dict.items():\n",
    "    if len(value)>1:\n",
    "        for item in value:\n",
    "            new_search_dict[item] = key\n",
    "    else:\n",
    "        new_search_dict[value[0]] = key"
   ]
  },
  {
   "cell_type": "code",
   "execution_count": null,
   "metadata": {},
   "outputs": [],
   "source": [
    "new_search_dict"
   ]
  },
  {
   "cell_type": "code",
   "execution_count": null,
   "metadata": {},
   "outputs": [],
   "source": []
  }
 ],
 "metadata": {
  "kernelspec": {
   "display_name": "Python 3",
   "language": "python",
   "name": "python3"
  },
  "language_info": {
   "codemirror_mode": {
    "name": "ipython",
    "version": 3
   },
   "file_extension": ".py",
   "mimetype": "text/x-python",
   "name": "python",
   "nbconvert_exporter": "python",
   "pygments_lexer": "ipython3",
   "version": "3.8.6rc1"
  }
 },
 "nbformat": 4,
 "nbformat_minor": 2
}
