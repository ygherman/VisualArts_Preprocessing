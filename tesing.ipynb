{
 "cells": [
  {
   "cell_type": "code",
   "execution_count": 5,
   "metadata": {},
   "outputs": [],
   "source": [
    "from VC_collections import Collection\n",
    "from VC_collections.Collection import connect_to_google_drive\n",
    "\n",
    "import gspread"
   ]
  },
  {
   "cell_type": "code",
   "execution_count": 3,
   "metadata": {},
   "outputs": [
    {
     "data": {
      "text/plain": [
       "2145"
      ]
     },
     "execution_count": 3,
     "metadata": {},
     "output_type": "execute_result"
    }
   ],
   "source": [
    "cred = Collection.get_google_drive_credentials()\n",
    "client = gspread.authorize(cred)\n",
    "len(client.list_spreadsheet_files())"
   ]
  },
  {
   "cell_type": "code",
   "execution_count": null,
   "metadata": {},
   "outputs": [],
   "source": [
    "client"
   ]
  },
  {
   "cell_type": "code",
   "execution_count": 6,
   "metadata": {},
   "outputs": [
    {
     "data": {
      "text/plain": [
       "dict_keys(['סימול האוסף', 'סימול הארכיון', 'סימולהארכיון', 'סימול', 'סימולהאוסף', 'סימול מקורי', 'סימולמקורי', 'רמת תיאור', 'רמתתיאור', 'שם האוסף', 'שם הארכיון', 'שםהארכיון', 'שםהאוסף', 'שםהאוסףבאנגלית', 'שםהארכיוןבאנגלית', 'כותרתערבית', 'כותרת', 'תאריך חופשי', 'תאריךחופשי', 'יוצרי האוסף', 'יוצריהאוסף', 'יוצרי הארכיון', 'יוצריהארכיון', 'יוצרים', 'תאריכים', 'מילותמפתחאישיליבה', 'מילות מפתח_אישי ליבה', 'מילות מפתח_מוסדות ליבה', 'מילותמפתחמוסדותליבה', 'מילות מפתח_יצירות ליבה', 'מילותמפתחיצירותליבה', 'מילות מפתח_נושאי ליבה', 'מילותמפתחנושאיליבה', 'סוג חומר', 'סוגחומר', 'היסטוריהארכיונית', 'היסטוריה ארכיונית', 'שיטת הסידור', 'שיטתהסידור', 'תיאורהטיפולבאוסףבפרויקט', 'תיאורהטיפולבארכיוןבפרויקט', 'תיאורהאוסףבפרויקטתרבותחזותיתואמנויותהבמה', 'תיאורהארכיוןבפרויקטתרבותחזותיתואמנויותהבמה', 'תיאור האוסף בפרויקט תרבות חזותית ואמנויות הבמה', 'תיאור הארכיון בפרויקט תרבות חזותית ואמנויות הבמה', 'סוג אוסף', 'סוג ארכיון', 'סוגארכיון', 'סוגאוסף', 'היקף', 'היקף החומר הפיזי טרום מיון', 'היקףהחומרהפיזיטרוםמיון', 'אוסף פתוח', 'ארכיון פתוח', 'אוסףפתוח', 'ארכיוןפתוח', 'ביבליוגרפיה ומקורות מידע', 'ביבליוגרפיהומקורותמידע', 'ביביליוגרפיהומקורותמידע', 'ביביליוגרפיה ומקורות מידע', 'בעלים נוכחי', 'בעליםנוכחי', 'מיקום פיזי', 'מיקוםפיזי', 'חומרים קשורים', 'חומריםקשורים', 'הערות - גלוי למשתמש קצה', 'הערותגלוי למשתמש קצה', 'הערותגלוילמשתמשקצה', 'הערותלאגלוילמשתמשקצה', 'הערות - לא גלוי למשתמש קצה', 'שם הרושם', 'שםהרושם', 'תאריךהרישום', 'תאריך הרישום', 'הערותסוקר'])"
      ]
     },
     "execution_count": 6,
     "metadata": {},
     "output_type": "execute_result"
    }
   ],
   "source": [
    "Collection.collection_field_mapper.keys()"
   ]
  },
  {
   "cell_type": "code",
   "execution_count": 6,
   "metadata": {},
   "outputs": [],
   "source": [
    "from VC_collections.AuthorityFiles import Authority_instance"
   ]
  },
  {
   "cell_type": "code",
   "execution_count": 11,
   "metadata": {},
   "outputs": [
    {
     "data": {
      "text/html": [
       "<div>\n",
       "<style scoped>\n",
       "    .dataframe tbody tr th:only-of-type {\n",
       "        vertical-align: middle;\n",
       "    }\n",
       "\n",
       "    .dataframe tbody tr th {\n",
       "        vertical-align: top;\n",
       "    }\n",
       "\n",
       "    .dataframe thead th {\n",
       "        text-align: right;\n",
       "    }\n",
       "</style>\n",
       "<table border=\"1\" class=\"dataframe\">\n",
       "  <thead>\n",
       "    <tr style=\"text-align: right;\">\n",
       "      <th></th>\n",
       "      <th>MEDIA_FORMAT</th>\n",
       "      <th>MEDIA</th>\n",
       "      <th>MEDIA_ID</th>\n",
       "      <th>FORMAT</th>\n",
       "      <th>MARC 338 rdacarrier</th>\n",
       "      <th>MARC 337 rdamedia</th>\n",
       "      <th>MARC21 534</th>\n",
       "      <th>תת שדה $$p יכיל טקסט קבוע: \"מנשא והפורמט הפיזי של הפריט המקורי:\" \"carrier and format of original item\"</th>\n",
       "      <th>MEDIA</th>\n",
       "      <th>FORMAT</th>\n",
       "    </tr>\n",
       "  </thead>\n",
       "  <tbody>\n",
       "    <tr>\n",
       "      <th>66</th>\n",
       "      <td>עץ</td>\n",
       "      <td>עץ</td>\n",
       "      <td>va-media-format-43</td>\n",
       "      <td>עץ</td>\n",
       "      <td>$$aonline resource$$bcr$$2rdacarrier</td>\n",
       "      <td>$$acomputer$$bc$$2rdamedia</td>\n",
       "      <td>$$eעץ</td>\n",
       "      <td></td>\n",
       "      <td>עץ</td>\n",
       "      <td>NaN</td>\n",
       "    </tr>\n",
       "  </tbody>\n",
       "</table>\n",
       "</div>"
      ],
      "text/plain": [
       "   MEDIA_FORMAT MEDIA            MEDIA_ID FORMAT  \\\n",
       "66           עץ    עץ  va-media-format-43     עץ   \n",
       "\n",
       "                     MARC 338 rdacarrier           MARC 337 rdamedia  \\\n",
       "66  $$aonline resource$$bcr$$2rdacarrier  $$acomputer$$bc$$2rdamedia   \n",
       "\n",
       "   MARC21 534  \\\n",
       "66      $$eעץ   \n",
       "\n",
       "   תת שדה $$p יכיל טקסט קבוע: \"מנשא והפורמט הפיזי של הפריט המקורי:\" \"carrier and format of original item\"  \\\n",
       "66                                                                                                          \n",
       "\n",
       "   MEDIA FORMAT  \n",
       "66    עץ    NaN  "
      ]
     },
     "execution_count": 11,
     "metadata": {},
     "output_type": "execute_result"
    }
   ],
   "source": [
    "Authority_instance.df_media_format_auth[Authority_instance.df_media_format_auth[\"MEDIA_FORMAT\"].str.contains(\"עץ\")]"
   ]
  },
  {
   "cell_type": "code",
   "execution_count": null,
   "metadata": {},
   "outputs": [],
   "source": [
    "import pandas as pd"
   ]
  },
  {
   "cell_type": "code",
   "execution_count": null,
   "metadata": {},
   "outputs": [],
   "source": [
    "privacy_mapping_dict = pd.Series(Authority_instance.df_privacy_values[\"רמיזות\"].values,\n",
    "                                 index=Authority_instance.df_privacy_values.index.values).to_dict()"
   ]
  },
  {
   "cell_type": "code",
   "execution_count": null,
   "metadata": {},
   "outputs": [],
   "source": [
    "privacy_mapping_dict"
   ]
  },
  {
   "cell_type": "code",
   "execution_count": null,
   "metadata": {},
   "outputs": [],
   "source": [
    "import pandas as pd"
   ]
  },
  {
   "cell_type": "code",
   "execution_count": null,
   "metadata": {},
   "outputs": [],
   "source": [
    "search_dict = pd.Series(Authority_instance.df_privacy_values[\"רמיזות\"].apply(lambda x: x.split(\";\")), \n",
    "                                                               index = Authority_instance.df_privacy_values.index.values).to_dict()"
   ]
  },
  {
   "cell_type": "code",
   "execution_count": null,
   "metadata": {},
   "outputs": [],
   "source": [
    "new_search_dict = {}\n",
    "\n",
    "for key, value in search_dict.items():\n",
    "    if len(value)>1:\n",
    "        for item in value:\n",
    "            new_search_dict[item] = key\n",
    "    else:\n",
    "        new_search_dict[value[0]] = key"
   ]
  },
  {
   "cell_type": "code",
   "execution_count": null,
   "metadata": {},
   "outputs": [],
   "source": [
    "new_search_dict.keys()"
   ]
  },
  {
   "cell_type": "code",
   "execution_count": null,
   "metadata": {},
   "outputs": [],
   "source": [
    "from VC_collections.authorities import convert_dict\n",
    "convert_dict(new_search_dict)"
   ]
  },
  {
   "cell_type": "code",
   "execution_count": null,
   "metadata": {},
   "outputs": [],
   "source": [
    "for key, value in convert_dict(new_search_dict).items():\n",
    "    print(f'key:{key}\\nvalue:{value}\\n')"
   ]
  },
  {
   "cell_type": "code",
   "execution_count": null,
   "metadata": {},
   "outputs": [],
   "source": [
    "Authority_instance.df_arch_mat_search[\"all_terms\"]"
   ]
  },
  {
   "cell_type": "code",
   "execution_count": null,
   "metadata": {},
   "outputs": [],
   "source": [
    "for key, value in Authority_instance.arch_mat_search_dict.items():\n",
    "    print(f'key:{key}\\nvalue:{value}\\n')\n"
   ]
  },
  {
   "cell_type": "code",
   "execution_count": null,
   "metadata": {},
   "outputs": [],
   "source": []
  }
 ],
 "metadata": {
  "kernelspec": {
   "display_name": "Python 3",
   "language": "python",
   "name": "python3"
  },
  "language_info": {
   "codemirror_mode": {
    "name": "ipython",
    "version": 3
   },
   "file_extension": ".py",
   "mimetype": "text/x-python",
   "name": "python",
   "nbconvert_exporter": "python",
   "pygments_lexer": "ipython3",
   "version": "3.8.6rc1"
  }
 },
 "nbformat": 4,
 "nbformat_minor": 2
}
