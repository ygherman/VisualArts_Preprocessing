{
 "cells": [
  {
   "cell_type": "code",
   "execution_count": 27,
   "metadata": {},
   "outputs": [],
   "source": [
    "from VC_collections import Collection\n",
    "from VC_collections.Collection import connect_to_google_drive\n",
    "from VC_collections.AuthorityFiles import Authority_instance\n",
    "from VC_collections.authorities import check_lang\n",
    "import gspread\n",
    "import pandas as pd\n"
   ]
  },
  {
   "cell_type": "code",
   "execution_count": 28,
   "metadata": {},
   "outputs": [
    {
     "data": {
      "text/plain": [
       "2457"
      ]
     },
     "execution_count": 28,
     "metadata": {},
     "output_type": "execute_result"
    }
   ],
   "source": [
    "cred = Collection.get_google_drive_credentials()\n",
    "client = gspread.authorize(cred)\n",
    "len(client.list_spreadsheet_files())"
   ]
  },
  {
   "cell_type": "code",
   "execution_count": 29,
   "metadata": {},
   "outputs": [
    {
     "name": "stdout",
     "output_type": "stream",
     "text": [
      "Please enter the name of the Branch (Architect, Design, Dance, Theater): Dance\n",
      "please enter the Collection ID:DCJaFo\n",
      "BASE_PATH G:\\My Drive\\National_Library\\Python\\VC-Dance\\DCJaFo\n",
      "G:\\My Drive\\National_Library\\Python\\VC-Dance\\DCJaFo\\Data \n",
      " G:\\My Drive\\National_Library\\Python\\VC-Dance\\DCJaFo\\Data\\raw \n",
      " G:\\My Drive\\National_Library\\Python\\VC-Dance\\DCJaFo\\Data\\processed \n",
      " G:\\My Drive\\National_Library\\Python\\VC-Dance\\DCJaFo\\Data\\reports \n",
      " G:\\My Drive\\National_Library\\Python\\VC-Dance\\DCJaFo\\Copyright \n",
      " G:\\My Drive\\National_Library\\Python\\VC-Dance\\DCJaFo\\Digitization \n",
      " G:\\My Drive\\National_Library\\Python\\VC-Dance\\DCJaFo\\Authorities \n",
      " G:\\My Drive\\National_Library\\Python\\VC-Dance\\DCJaFo\\Custom21 \n",
      " G:\\My Drive\\National_Library\\Python\\VC-Dance\\DCJaFo\\Manage18 \n",
      " G:\\My Drive\\National_Library\\Python\\VC-Dance\\DCJaFo\\Custom04\\Alma\n",
      "0 : DCJaFo_Final_to_Alma_20211223\n",
      "1 : DCJaFo_Final_Shwieke_28072021\n",
      "2 : DCJaFo_Final_to_Alma_20211222\n",
      "3 : DCJaFo_Final_to_Alma_20211222\n",
      "4 : DCJaFo_Final_to_Alma_20211222\n",
      "5 : DCJaFo_Final_to_Alma_20211222\n",
      "6 : DCJaFo_Final_to_Alma_20211222\n",
      "7 : DCJaFo_Final_to_Alma_20211222\n",
      "8 : DCJaFo_Final_to_Alma_20211221\n",
      "9 : DCJaFo_Final_to_Alma_20211221\n",
      "10 : DCJaFo_Final_to_Alma_20211221\n",
      "11 : DCJaFo_Final_to_Alma_20211221\n",
      "12 : DCJaFo_Final_to_Alma_20211221\n",
      "13 : DCJaFo_Final_to_Alma_20211221\n",
      "14 : DCJaFo_WithLinks_02.09.2021\n",
      "which file of the following do you choose? type the index number, if none of the above return -1: \n",
      "1\n",
      "<Worksheet 'תיעוד חומרים לצרכי תוכן ויח\"צ' id:1067653138>\n",
      "<Worksheet \"צ'ק ליסט היערכות לאיסוף\" id:1081159570>\n",
      "<Worksheet 'גרף התקדמות' id:1781077943>\n",
      "<Worksheet 'קטלוג' id:471566077>\n",
      "<Worksheet 'Sheet29' id:1186971871>\n",
      "<Worksheet 'אוסף' id:1257381019>\n",
      "<Worksheet 'אוסף עברית' id:1923437561>\n",
      "<Worksheet 'דוח איסוף וסידור' id:1212196676>\n",
      "<Worksheet 'מוסדות' id:1781105157>\n",
      "<Worksheet 'יצירות - מחול' id:1386691173>\n",
      "<Worksheet 'יצירות - אדריכלות' id:451293998>\n",
      "<Worksheet 'יצירות - תאטרון' id:1568522832>\n",
      "<Worksheet 'אישים' id:681693202>\n",
      "<Worksheet \"צ'ק ליסט סגירת טבלת רישום\" id:865261254>\n",
      "<Worksheet \"  צ'ק ליסט סגירת הארכיון\" id:1637338751>\n",
      "<Worksheet 'הגשת קטלוג סופי' id:26812954>\n",
      "<Worksheet 'הנחיות שיום קובץ סופי להגשה' id:1553651525>\n",
      "<Worksheet \"צ'ק ליסט החזרת ארכיון\" id:2034587161>\n",
      "<Worksheet 'שדות לא לסריקה' id:1848376230>\n",
      "<Worksheet 'מקור נתונים' id:1262927697>\n",
      "<Worksheet 'קטלוג סופי' id:1441562305>\n",
      "col_names: ['ברקוד', 'סימולמקורי', 'סימולפרויקט', 'המצאותתיקיםבמיכלרושמים', 'המצאותתיקיםבמיכלדיגיטציה', 'רמתתיאור', 'מספרמיכל', 'קודתיקארכיון', 'כותרת', 'כותרתערבית', 'כותרתאנגלית', 'תיאור', 'תאריךחופשי', 'תאריךמנורמלמוקדם', 'תאריךמנורמלמאוחר', 'תאריךיצירתהחפץהטקסטהמקורימוקדם', 'תאריךיצירתהחפץהטקסטהמקורימאוחר', 'יוצרראשיאיש', 'סוגיוצרראשיאיש', 'יוצריםנוספיםאיש', 'יוצרראשימוסד', 'סוגיוצרראשימוסד', 'יוצריםנוספיםמוסד', 'מילותמפתחאישים', 'מילותמפתחמוסדות', 'מילותמפתחיצירות', 'מילותמפתחנושאים', 'סוגחומר', 'מדיהפורמט', 'קנהמידה', 'טכניקה', 'מדינתהפרסוםהצילום', 'מגבלותפרטיות', 'תאריךפקיעתהחיסיון', 'מסלולדיגיטציה', 'סריקהדוצדדית', 'מספרקבציםמוערך', 'שפה', 'היקףהחומר', 'משך', 'הערותגלוילמשתמשקצה', 'הערותלאגלוילמשתמש', 'פריטייעודילצרכיתוכןויחצ', 'שםהרושם', 'תאריךהרישום']\n",
      "col_names: ['סימולמקורי', 'רמתתיאור', 'שםהארכיון', 'תאריךחופשי', 'יוצריהארכיון', 'מילותמפתחאישיליבה', 'מילותמפתחמוסדותליבה', 'מילותמפתחנושאיליבה', 'תקציר', 'היסטוריהארכיוניתתיאורהטיפולבארכיוןבפרויקט', 'סוגארכיון', 'היקף', 'ארכיוןפתוח', 'ביבליוגרפיהומקורותמידע', 'בעליםנוכחי', 'מיקוםפיזי', 'חומריםקשורים', 'הערותלאגלוילמשתמשקצה', 'שםהרושם', 'תאריךהרישום']\n",
      "columns not mapped: סימולמקורי: ORIGINAL_ID\n",
      "רמתתיאור: LEVEL\n",
      "שםהארכיון: UNITITLE\n",
      "תאריךחופשי: DATE\n",
      "יוצריהארכיון: COLLECTION_CREATOR\n",
      "מילותמפתחאישיליבה: PERSNAME\n",
      "מילותמפתחמוסדותליבה: CORPNAME\n",
      "מילותמפתחנושאיליבה: SUBJECT\n",
      "תקציר: SUMMARY\n",
      "היסטוריהארכיוניתתיאורהטיפולבארכיוןבפרויקט: None\n",
      "סוגארכיון: COLLECTION_TYPE\n",
      "היקף: EXTENT\n",
      "ארכיוןפתוח: ACCURALS\n",
      "ביבליוגרפיהומקורותמידע: BIBLIOGRAPHY\n",
      "בעליםנוכחי: CURRENT_OWNER\n",
      "מיקוםפיזי: PHYSLOC\n",
      "חומריםקשורים: RELATED_MATERIALS\n",
      "הערותלאגלוילמשתמשקצה: NOTES_HIDDEN\n",
      "שםהרושם: CATALOGUER\n",
      "תאריךהרישום: DATE_CATALOGING\n",
      "df_catalog columns: 0: BARCODE\n",
      "1: ORIGINAL_ID\n",
      "2: UNITID\n",
      "3: המצאות תיקים במיכל - רושמים\n",
      "4: המצאות תיקים במיכל - דיגיטציה\n",
      "5: LEVEL\n",
      "6: CONTAINER\n",
      "7: ARCHIV_ID\n",
      "8: UNITITLE\n",
      "9: UNITITLE_AR\n",
      "10: UNITITLE_ENG\n",
      "11: SCOPECONTENT\n",
      "12: DATE\n",
      "13: DATE_START\n",
      "14: DATE_END\n",
      "15: PHOTO_DATE_EARLY\n",
      "16: PHOTO_DATE_LATE\n",
      "17: FIRST_CREATOR_PERS\n",
      "18: TYPE_FIRST_CREATOR_PERS\n",
      "19: ADD_CREATOR_PERS\n",
      "20: FIRST_CREATOR_CORP\n",
      "21: TYPE_FIRST_CREATOR_CORP\n",
      "22: ADD_CREATOR_CORPS\n",
      "23: PERSNAME\n",
      "24: CORPNAME\n",
      "25: WORKS\n",
      "26: SUBJECT\n",
      "27: ARCHIVAL_MATERIAL\n",
      "28: MEDIUM_FORMAT\n",
      "29: SCALE\n",
      "30: TECHNIQUE\n",
      "31: PUBLICATION_COUNTRY\n",
      "32: ACCESSRESTRICT\n",
      "33: CONFIDENTIALITY\n",
      "34: DIGITIZATION\n",
      "35: TWO_SIDE_SCAN\n",
      "36: EST_FILES_NUM\n",
      "37: LANGUAGE\n",
      "38: EXTENT\n",
      "39: DURATION\n",
      "40: NOTES\n",
      "41: NOTES_HIDDEN\n",
      "42: פריט ייעודי לצרכי תוכן ויח\"צ\n",
      "43: CATALOGUER\n",
      "44: DATE_CATALOGING\n",
      "df_collection columns: 0: ORIGINAL_ID\n",
      "1: LEVEL\n",
      "2: UNITITLE\n",
      "3: DATE\n",
      "4: COLLECTION_CREATOR\n",
      "5: PERSNAME\n",
      "6: CORPNAME\n",
      "7: SUBJECT\n",
      "8: SUMMARY\n",
      "9: NO MAPPING\n",
      "10: COLLECTION_TYPE\n",
      "11: EXTENT\n",
      "12: ACCURALS\n",
      "13: BIBLIOGRAPHY\n",
      "14: CURRENT_OWNER\n",
      "15: PHYSLOC\n",
      "16: RELATED_MATERIALS\n",
      "17: NOTES_HIDDEN\n",
      "18: CATALOGUER\n",
      "19: DATE_CATALOGING\n",
      " :0\n",
      "סימול :1\n",
      "סימול אב :2\n",
      "ברקוד :3\n",
      "סימול מקורי :4\n",
      "רמת תיאור :5\n",
      "מספר מיכל :6\n",
      "קוד תיק ארכיון :7\n",
      "כותרת :8\n",
      "כותרת אנגלית :9\n",
      "כותרת ערבית :10\n",
      "כותרת מתורגמת :11\n",
      "כותרת משנה :12\n",
      "תיאור :13\n",
      "תאריך חופשי :14\n",
      "תאריך מנורמל מוקדם :15\n",
      "תאריך מנורמל מאוחר :16\n",
      "תאריך יצירת החפץ / הטקסט המקורי מוקדם :17\n",
      "תאריך יצירת החפץ / הטקסט המקורי מאוחר :18\n",
      "יוצרים :19\n",
      "יוצרים אישים :20\n",
      "יוצרים מוסדות :21\n",
      "מילות מפתח - אישים :22\n",
      "מילות מפתח - מוסדות :23\n",
      "מילות מפתח_יצירות :24\n",
      "מילות מפתח_נושאים :25\n",
      "סוג חומר :26\n",
      "מדיה + פורמט :27\n",
      "קנה מידה :28\n",
      "טכניקה :29\n",
      "מדינת הפרסום/הצילום :30\n",
      "מילות מפתח_מקומות :31\n",
      "מגבלות פרטיות :32\n",
      "מסלול דיגיטציה :33\n",
      "סריקה דו-צדדית :34\n",
      "מספר קבצים מוערך :35\n",
      "מספר קבצים לאחר דיגיטציה :36\n",
      "שפה :37\n",
      "היקף החומר :38\n",
      "משך :39\n",
      "הערות גלוי למשתמש קצה :40\n",
      "הערות לא גלוי למשתמש :41\n",
      "שם הרושם :42\n",
      "תאריך הרישום :43\n",
      "היסטוריה ארכיונית :44\n",
      "בעלים נוכחי :45\n",
      "תיאור הטיפול באוסף בפרויקט :46\n",
      "סוג אוסף :47\n",
      "אוסף פתוח :48\n",
      "ביבליוגרפיה ומקורות מידע :49\n",
      "מיקום פיזי :50\n",
      "חומרים קשורים :51\n",
      "תאריך פקיעת החיסיון :52\n",
      "תקציר :53\n",
      "קרדיט עברית :54\n",
      "קרדיט אנגלית :55\n"
     ]
    }
   ],
   "source": [
    "collection = Collection.retrieve_collection()"
   ]
  },
  {
   "cell_type": "code",
   "execution_count": 35,
   "metadata": {},
   "outputs": [
    {
     "data": {
      "text/plain": [
       "'ara'"
      ]
     },
     "execution_count": 35,
     "metadata": {},
     "output_type": "execute_result"
    }
   ],
   "source": [
    "check_lang(collection.df_final_data.loc[collection.df_final_data[\"תיאור\"]!=''][\"תיאור\"].tolist()[0])"
   ]
  },
  {
   "cell_type": "code",
   "execution_count": 36,
   "metadata": {},
   "outputs": [
    {
     "data": {
      "text/plain": [
       "'lat'"
      ]
     },
     "execution_count": 36,
     "metadata": {},
     "output_type": "execute_result"
    }
   ],
   "source": [
    "check_lang(\"asdsdf\")"
   ]
  },
  {
   "cell_type": "code",
   "execution_count": null,
   "metadata": {},
   "outputs": [],
   "source": [
    "from VC_collections.AuthorityFiles import create_df_from_gs\n",
    "spreadsheet = client.open_by_url(\n",
    "            \"https://docs.google.com/spreadsheets/d/1736sL9unbiOMbcrIYgSkCSvhU2-LCthSLVtYLPSpZ98\"\n",
    "        )\n"
   ]
  },
  {
   "cell_type": "code",
   "execution_count": 13,
   "metadata": {},
   "outputs": [
    {
     "data": {
      "text/plain": [
       "'sz'"
      ]
     },
     "execution_count": 13,
     "metadata": {},
     "output_type": "execute_result"
    }
   ],
   "source": [
    " Authority_instance.df_countries_ara.to_dict()[\"MARC\"][\"سويسرا\"]"
   ]
  },
  {
   "cell_type": "code",
   "execution_count": null,
   "metadata": {},
   "outputs": [],
   "source": [
    "Authority_instance.language_mapping_dict_ara"
   ]
  },
  {
   "cell_type": "markdown",
   "metadata": {},
   "source": [
    "# Country of publication"
   ]
  },
  {
   "cell_type": "code",
   "execution_count": null,
   "metadata": {},
   "outputs": [],
   "source": [
    "df_country, df_country_cols = create_df_from_gs(spreadsheet, \"מדינת פרסום\")"
   ]
  },
  {
   "cell_type": "code",
   "execution_count": null,
   "metadata": {},
   "outputs": [],
   "source": [
    "df_country.head()"
   ]
  },
  {
   "cell_type": "code",
   "execution_count": null,
   "metadata": {},
   "outputs": [],
   "source": [
    "Authority_instance.df_countries.set_index(\"מדינת פרסום בערבית\").to_dict()[\"MARC\"]"
   ]
  },
  {
   "cell_type": "code",
   "execution_count": null,
   "metadata": {},
   "outputs": [],
   "source": [
    "Authority_instance.countries_mapping_dict_ara"
   ]
  },
  {
   "cell_type": "code",
   "execution_count": null,
   "metadata": {},
   "outputs": [],
   "source": [
    "{k: v for k, v in Authority_instance.countries_mapping_dict_ara.items() if v}"
   ]
  },
  {
   "cell_type": "markdown",
   "metadata": {},
   "source": [
    "# Subjects"
   ]
  },
  {
   "cell_type": "code",
   "execution_count": null,
   "metadata": {},
   "outputs": [],
   "source": [
    "df_subjects, df_subjects_cols = create_df_from_gs(spreadsheet, \"נושאים\")\n",
    "df_subjects.head()"
   ]
  },
  {
   "cell_type": "code",
   "execution_count": null,
   "metadata": {},
   "outputs": [],
   "source": [
    "df_subjects_mapper = df_subjects.set_index(\"נושא עברית\").to_dict()[\"650 7\"]\n",
    "for key, value in df_subjects_mapper.items():\n",
    "    print(f'key: {key}, value: {value}')"
   ]
  },
  {
   "cell_type": "code",
   "execution_count": null,
   "metadata": {},
   "outputs": [],
   "source": [
    "type(df_subjects)"
   ]
  },
  {
   "cell_type": "code",
   "execution_count": null,
   "metadata": {},
   "outputs": [],
   "source": [
    "collection= Collection.Collection(\"Alma\", \"Design\", \"PShHi\")"
   ]
  },
  {
   "cell_type": "code",
   "execution_count": null,
   "metadata": {},
   "outputs": [],
   "source": [
    "collection.df_final_data[\"בעלים נוכחי\"].tolist()[0]"
   ]
  },
  {
   "cell_type": "code",
   "execution_count": null,
   "metadata": {},
   "outputs": [],
   "source": [
    "values_list = list(set(filter(None,\";\".join(collection.df_final_data[\"סוג חומר\"].tolist()).split(\";\"))))"
   ]
  },
  {
   "cell_type": "code",
   "execution_count": null,
   "metadata": {},
   "outputs": [],
   "source": [
    "values_list.append(\"עבודה אקדמית\")"
   ]
  },
  {
   "cell_type": "code",
   "execution_count": null,
   "metadata": {},
   "outputs": [],
   "source": [
    "from VC_collections.authorities import convert_dict, fix_original\n",
    "\n",
    "fix_original()\n",
    "\n",
    "auth_list = convert_dict(Authority_instance.arch_mat_search_dict)\n",
    "auth_list"
   ]
  },
  {
   "cell_type": "code",
   "execution_count": null,
   "metadata": {},
   "outputs": [],
   "source": [
    "values_not_found = []\n",
    "\n",
    "for value in values_list:\n",
    "    if value in auth_list.keys():\n",
    "        print(f'original {value} is in Authorities')\n",
    "    else:\n",
    "        print(f'!!!!!!original {value} not in Authorities') \n",
    "        values_not_found.append(value)"
   ]
  },
  {
   "cell_type": "code",
   "execution_count": null,
   "metadata": {},
   "outputs": [],
   "source": [
    "auth_list['עבודה אקדמית']"
   ]
  },
  {
   "cell_type": "code",
   "execution_count": null,
   "metadata": {},
   "outputs": [],
   "source": [
    "len(list(filter(None,\";\".join(collection.df_final_data[\"סוג חומר\"].tolist()).split(\";\"))))\n"
   ]
  },
  {
   "cell_type": "code",
   "execution_count": null,
   "metadata": {},
   "outputs": [],
   "source": [
    "with open(r'Data\\VIS_907.json') as json_file:\n",
    "    rosetta_dict = json.load(json_file)"
   ]
  },
  {
   "cell_type": "code",
   "execution_count": null,
   "metadata": {},
   "outputs": [],
   "source": [
    "rosetta_dict"
   ]
  },
  {
   "cell_type": "code",
   "execution_count": null,
   "metadata": {},
   "outputs": [],
   "source": [
    "Collection.collection_field_mapper.keys()"
   ]
  },
  {
   "cell_type": "markdown",
   "metadata": {},
   "source": [
    "# Archival Material"
   ]
  },
  {
   "cell_type": "code",
   "execution_count": null,
   "metadata": {},
   "outputs": [],
   "source": [
    "from VC_collections.AuthorityFiles import Authority_instance\n",
    "import pprint\n",
    "from collections import defaultdict"
   ]
  },
  {
   "cell_type": "code",
   "execution_count": null,
   "metadata": {},
   "outputs": [],
   "source": [
    "Authority_instance.df_arch_mat_search[\"all_terms\"]"
   ]
  },
  {
   "cell_type": "code",
   "execution_count": null,
   "metadata": {},
   "outputs": [],
   "source": [
    "def convert_dict(new_val2errs):\n",
    "    d = defaultdict(list)\n",
    "    for nv, errs in new_val2errs.items():\n",
    "        if type(errs) == str:\n",
    "            errs = errs.split(\";\")\n",
    "        for err in errs:\n",
    "            if err != \"\":\n",
    "                d[err].append(nv)\n",
    "    return d\n",
    "\n",
    "pprint.pprint(convert_dict(Authority_instance.arch_mat_search_dict))"
   ]
  },
  {
   "cell_type": "code",
   "execution_count": null,
   "metadata": {},
   "outputs": [],
   "source": [
    "pprint.pprint(Authority_instance.arch_mat_search_dict)"
   ]
  },
  {
   "cell_type": "markdown",
   "metadata": {},
   "source": [
    "# Media Format"
   ]
  },
  {
   "cell_type": "code",
   "execution_count": null,
   "metadata": {},
   "outputs": [],
   "source": [
    "Authority_instance.df_media_format_auth[Authority_instance.df_media_format_auth[\"MEDIA_FORMAT\"].str.contains(\"עץ\")]"
   ]
  },
  {
   "cell_type": "markdown",
   "metadata": {},
   "source": [
    "# Privacy"
   ]
  },
  {
   "cell_type": "code",
   "execution_count": null,
   "metadata": {},
   "outputs": [],
   "source": [
    "privacy_mapping_dict = pd.Series(Authority_instance.df_privacy_values[\"רמיזות\"].values,\n",
    "                                 index=Authority_instance.df_privacy_values.index.values).to_dict()"
   ]
  },
  {
   "cell_type": "code",
   "execution_count": null,
   "metadata": {},
   "outputs": [],
   "source": [
    "privacy_mapping_dict"
   ]
  },
  {
   "cell_type": "code",
   "execution_count": null,
   "metadata": {},
   "outputs": [],
   "source": [
    "search_dict = pd.Series(Authority_instance.df_privacy_values[\"רמיזות\"].apply(lambda x: x.split(\";\")), \n",
    "                                                               index = Authority_instance.df_privacy_values.index.values).to_dict()"
   ]
  },
  {
   "cell_type": "code",
   "execution_count": null,
   "metadata": {},
   "outputs": [],
   "source": [
    "new_search_dict = {}\n",
    "\n",
    "for key, value in search_dict.items():\n",
    "    if len(value)>1:\n",
    "        for item in value:\n",
    "            new_search_dict[item] = key\n",
    "    else:\n",
    "        new_search_dict[value[0]] = key"
   ]
  },
  {
   "cell_type": "code",
   "execution_count": null,
   "metadata": {},
   "outputs": [],
   "source": [
    "new_search_dict.keys()"
   ]
  },
  {
   "cell_type": "code",
   "execution_count": null,
   "metadata": {},
   "outputs": [],
   "source": [
    "from VC_collections.authorities import convert_dict\n",
    "convert_dict(new_search_dict)"
   ]
  },
  {
   "cell_type": "code",
   "execution_count": null,
   "metadata": {},
   "outputs": [],
   "source": [
    "for key, value in convert_dict(new_search_dict).items():\n",
    "    print(f'key:{key}\\nvalue:{value}\\n')"
   ]
  },
  {
   "cell_type": "code",
   "execution_count": null,
   "metadata": {},
   "outputs": [],
   "source": [
    "for key, value in Authority_instance.arch_mat_search_dict.items():\n",
    "    print(f'key:{key}\\nvalue:{value}\\n')\n"
   ]
  },
  {
   "cell_type": "markdown",
   "metadata": {},
   "source": [
    "# split creators"
   ]
  },
  {
   "cell_type": "code",
   "execution_count": null,
   "metadata": {},
   "outputs": [],
   "source": [
    "from VC_collections.AuthorityFiles import Authority_instance\n",
    "from VC_collections.authorities import find_role, find_name\n",
    "import pandas as pd"
   ]
  },
  {
   "cell_type": "code",
   "execution_count": null,
   "metadata": {},
   "outputs": [],
   "source": [
    "Authority_instance.df_creator_pers_role.head()"
   ]
  },
  {
   "cell_type": "code",
   "execution_count": null,
   "metadata": {},
   "outputs": [],
   "source": [
    "Authority_instance.df_creator_pers_role[\"CREATORS_PERS_ROLE_ARA\"]"
   ]
  },
  {
   "cell_type": "code",
   "execution_count": null,
   "metadata": {},
   "outputs": [],
   "source": [
    "Authority_instance.df_creator_corps_role.head()"
   ]
  },
  {
   "cell_type": "code",
   "execution_count": null,
   "metadata": {},
   "outputs": [],
   "source": []
  },
  {
   "cell_type": "code",
   "execution_count": null,
   "metadata": {},
   "outputs": [],
   "source": [
    "df = pd.ExcelFile(r'Data/PYaVa_Creators.xlsx').parse(\"Sheet1\")\n",
    "df = df.set_index(\"סימול\")"
   ]
  },
  {
   "cell_type": "code",
   "execution_count": null,
   "metadata": {},
   "outputs": [],
   "source": []
  },
  {
   "cell_type": "code",
   "execution_count": null,
   "metadata": {},
   "outputs": [],
   "source": [
    "df[\"יוצר ראשי - איש\"] = ''\n",
    "df[\"סוג יוצר ראשי - איש\"] = ''\n",
    "df[\"יוצר ראשי - מוסד\"] = ''\n",
    "df[\"סוג יוצר ראשי - מוסד\"] = ''\n",
    "df[\"יוצרים נוספים - איש\"] = ''\n",
    "df[\"יוצרים נוספים - מוסד\"] = ''"
   ]
  },
  {
   "cell_type": "code",
   "execution_count": null,
   "metadata": {},
   "outputs": [],
   "source": [
    "\n",
    "def create_first(creators):\n",
    "\n",
    "    creator = creators.pop(0)\n",
    "    \n",
    "    return find_name(creator).strip(), find_role(creator).strip(), creators"
   ]
  },
  {
   "cell_type": "code",
   "execution_count": null,
   "metadata": {},
   "outputs": [],
   "source": [
    "import numpy as np\n",
    "roles_not_found = []\n",
    "\n",
    "for index, row in df.iterrows():\n",
    "\n",
    "    creators_pers = []\n",
    "    creators_corps = []\n",
    "    try:\n",
    "        creators = row[\"יוצרים\"].split(\";\")\n",
    "    except:\n",
    "        continue\n",
    "        \n",
    "    \n",
    "    \n",
    "    first_name, first_role, rest_creators = create_first(creators)\n",
    "    \n",
    "    if first_role in Authority_instance.roles_dict[\"pers_roles\"]:\n",
    "        df.loc[index, \"יוצר ראשי - איש\"] = first_name\n",
    "        df.loc[index, \"סוג יוצר ראשי - איש\"] = first_role\n",
    "    else:\n",
    "        df.loc[index, \"יוצר ראשי - מוסד\"] = first_name\n",
    "        df.loc[index, \"סוג יוצר ראשי - מוסד\"] = first_role\n",
    "    \n",
    "    for creator in rest_creators:\n",
    "        print(index)\n",
    "        role = find_role(creator).strip()\n",
    "        if role in Authority_instance.roles_dict[\"pers_roles\"]:\n",
    "            print(f'role: {role} is pers')\n",
    "            creators_pers.append(creator)\n",
    "        elif role in Authority_instance.roles_dict[\"corps_roles\"]:\n",
    "            creators_corps.append(creator)\n",
    "            print(f'role: {role} is corps')\n",
    "        else:\n",
    "            roles_not_found.append(creator)\n",
    "            \n",
    "    df.loc[index, \"יוצרים נוספים - איש\"] = \";\".join(creators_pers)\n",
    "    df.loc[index, \"יוצרים נוספים - מוסד\"] = \";\".join(creators_corps)\n",
    "    if len(roles_not_found) > 0:\n",
    "        print(roles_not_found)\n",
    "    "
   ]
  },
  {
   "cell_type": "code",
   "execution_count": null,
   "metadata": {},
   "outputs": [],
   "source": [
    "roles_not_found"
   ]
  },
  {
   "cell_type": "code",
   "execution_count": null,
   "metadata": {},
   "outputs": [],
   "source": [
    "df.to_excel(r'Data/PYaVa_creators_repair.xlsx')"
   ]
  },
  {
   "cell_type": "code",
   "execution_count": null,
   "metadata": {},
   "outputs": [],
   "source": [
    "collection.df_final_data[\"כותרת ערבית\"].empty"
   ]
  },
  {
   "cell_type": "code",
   "execution_count": null,
   "metadata": {},
   "outputs": [],
   "source": [
    "collection.df_final_data.columns"
   ]
  },
  {
   "cell_type": "code",
   "execution_count": null,
   "metadata": {},
   "outputs": [],
   "source": [
    "import pandas as pd"
   ]
  },
  {
   "cell_type": "code",
   "execution_count": null,
   "metadata": {},
   "outputs": [],
   "source": [
    "d= {'ניסיון': ['', '', '']}"
   ]
  },
  {
   "cell_type": "code",
   "execution_count": null,
   "metadata": {},
   "outputs": [],
   "source": [
    "test = pd.DataFrame(d)"
   ]
  },
  {
   "cell_type": "code",
   "execution_count": null,
   "metadata": {},
   "outputs": [],
   "source": [
    "\n",
    "len(test[test[\"ניסיון\"] != ''])"
   ]
  },
  {
   "cell_type": "code",
   "execution_count": null,
   "metadata": {},
   "outputs": [],
   "source": [
    "\"ArBe\" in Authority_instance.df_credits.index"
   ]
  },
  {
   "cell_type": "code",
   "execution_count": null,
   "metadata": {},
   "outputs": [],
   "source": [
    "Authority_instance.df_credits.loc[\"ArBe\", \"מיקום הפקדה עבור בעלים נוכחי\"]"
   ]
  },
  {
   "cell_type": "code",
   "execution_count": null,
   "metadata": {},
   "outputs": [],
   "source": [
    " test_data_with_dup = {\n",
    "            \"UNITID\": [\"ABCD\", \"ABCD\", \"ASDF\"]\n",
    "        }"
   ]
  },
  {
   "cell_type": "code",
   "execution_count": null,
   "metadata": {},
   "outputs": [],
   "source": [
    "df = pd.DataFrame(test_data_with_dup)\n",
    "df"
   ]
  },
  {
   "cell_type": "code",
   "execution_count": null,
   "metadata": {},
   "outputs": [],
   "source": [
    "from VC_collections.columns import dupCheck\n",
    "import pandas as pd"
   ]
  },
  {
   "cell_type": "code",
   "execution_count": null,
   "metadata": {},
   "outputs": [],
   "source": [
    "dupCheck(df, \"UNITID\")"
   ]
  },
  {
   "cell_type": "code",
   "execution_count": null,
   "metadata": {},
   "outputs": [],
   "source": [
    "\n",
    "pd.concat(g for _, g in df.groupby(\"UNITID\") if len(g) > 1)"
   ]
  },
  {
   "cell_type": "code",
   "execution_count": null,
   "metadata": {},
   "outputs": [],
   "source": [
    "import numpy as np\n",
    "df[\"test\"] = ''"
   ]
  },
  {
   "cell_type": "code",
   "execution_count": null,
   "metadata": {},
   "outputs": [],
   "source": [
    "df"
   ]
  },
  {
   "cell_type": "code",
   "execution_count": null,
   "metadata": {},
   "outputs": [],
   "source": [
    "df[\"test\"].dropna().empty"
   ]
  },
  {
   "cell_type": "code",
   "execution_count": null,
   "metadata": {},
   "outputs": [],
   "source": [
    "df[\"test\"] = df[\"test\"].dropna()"
   ]
  },
  {
   "cell_type": "code",
   "execution_count": null,
   "metadata": {},
   "outputs": [],
   "source": [
    "df"
   ]
  },
  {
   "cell_type": "code",
   "execution_count": null,
   "metadata": {},
   "outputs": [],
   "source": [
    "df[\"test\"].empty"
   ]
  },
  {
   "cell_type": "code",
   "execution_count": null,
   "metadata": {},
   "outputs": [],
   "source": [
    "test_008 = \"191104k19811981is#xx###############heb#d\""
   ]
  },
  {
   "cell_type": "code",
   "execution_count": null,
   "metadata": {},
   "outputs": [],
   "source": [
    "test_008[:7]  + \"19841984\" + test_008[15:]"
   ]
  },
  {
   "cell_type": "code",
   "execution_count": null,
   "metadata": {},
   "outputs": [],
   "source": [
    "from viapy import api"
   ]
  },
  {
   "cell_type": "code",
   "execution_count": null,
   "metadata": {},
   "outputs": [],
   "source": [
    "from urllib.request import urlopen, quote\n",
    "# if you're running python 3, replace the above with the following:\n",
    "# from urllib.request import urlopen\n",
    "# from urllib.parse import quote\n",
    "\n",
    "def retrieve_viaf_search_results(search_index, search_term, auth_source):\n",
    "    # url search template formatted to allow easy variable insertion\n",
    "    search_url_template = 'http://viaf.org/viaf/search/viaf?query=local.{0}+all+{1}+and+local.sources+any+{2}&sortKeys=holdingscount&httpAccept=application/xml'\n",
    "    \n",
    "    # since we'll be inserting the three passed variables into the \n",
    "    # html search template, we need to make sure to \"escape\" any\n",
    "    # special characters. VIAF also requires that they be enclosed in\n",
    "    # quotes, which themselves have to be escaped. We can use urllib2's \n",
    "    # \"quote\" function for this:\n",
    "    auth_source = quote(f'\"{auth_source}\"')\n",
    "    search_term = quote(f'\"{search_term}\"')\n",
    "    \n",
    "    # build the full search url\n",
    "    search_url = search_url_template.format(search_index, search_term, auth_source)\n",
    "    \n",
    "    # query the url with urlopen and store the returned xml\n",
    "    response = urlopen(search_url).read()"
   ]
  },
  {
   "cell_type": "code",
   "execution_count": null,
   "metadata": {},
   "outputs": [],
   "source": [
    "retrieve_viaf_search_results(\"persname\", \"צרפתי, רות\")"
   ]
  },
  {
   "cell_type": "markdown",
   "metadata": {},
   "source": [
    "# Arabic"
   ]
  },
  {
   "cell_type": "code",
   "execution_count": null,
   "metadata": {},
   "outputs": [],
   "source": [
    "spreadsheet = client.open_by_url(\n",
    "            \"https://docs.google.com/spreadsheets/d/1736sL9unbiOMbcrIYgSkCSvhU2-LCthSLVtYLPSpZ98\")"
   ]
  },
  {
   "cell_type": "code",
   "execution_count": null,
   "metadata": {},
   "outputs": [],
   "source": [
    "from VC_collections.AuthorityFiles import Authority"
   ]
  },
  {
   "cell_type": "code",
   "execution_count": null,
   "metadata": {},
   "outputs": [],
   "source": [
    "import alphabet_detector"
   ]
  },
  {
   "cell_type": "code",
   "execution_count": null,
   "metadata": {},
   "outputs": [],
   "source": [
    "ad = alphabet_detector.AlphabetDetector()"
   ]
  },
  {
   "cell_type": "code",
   "execution_count": null,
   "metadata": {},
   "outputs": [],
   "source": [
    "test_lang = \"'اسرائيل;الاردن'\""
   ]
  },
  {
   "cell_type": "code",
   "execution_count": null,
   "metadata": {},
   "outputs": [],
   "source": [
    "ad.detect_alphabet(test_lang)"
   ]
  },
  {
   "cell_type": "code",
   "execution_count": null,
   "metadata": {},
   "outputs": [],
   "source": [
    "check_lang(test_lang)"
   ]
  },
  {
   "cell_type": "code",
   "execution_count": null,
   "metadata": {},
   "outputs": [],
   "source": [
    "Authority_instance.df_creator_pers_role"
   ]
  },
  {
   "cell_type": "code",
   "execution_count": null,
   "metadata": {},
   "outputs": [],
   "source": [
    "language_mapping_dict_ara = Authority_instance.df_languages.loc[Authority_instance.df_languages[\"שם שפה ערבית\"]!=\"\"].reset_index().set_index(\"שם שפה ערבית\")[[\"קוד שפה\"]].to_dict()['קוד שפה']"
   ]
  },
  {
   "cell_type": "code",
   "execution_count": 18,
   "metadata": {},
   "outputs": [
    {
     "data": {
      "text/html": [
       "<div>\n",
       "<style scoped>\n",
       "    .dataframe tbody tr th:only-of-type {\n",
       "        vertical-align: middle;\n",
       "    }\n",
       "\n",
       "    .dataframe tbody tr th {\n",
       "        vertical-align: top;\n",
       "    }\n",
       "\n",
       "    .dataframe thead th {\n",
       "        text-align: right;\n",
       "    }\n",
       "</style>\n",
       "<table border=\"1\" class=\"dataframe\">\n",
       "  <thead>\n",
       "    <tr style=\"text-align: right;\">\n",
       "      <th></th>\n",
       "      <th>שם שפה אנגלית</th>\n",
       "      <th>שם שפה ערבית</th>\n",
       "      <th>קוד שפה</th>\n",
       "      <th>שם שפה ערבית רמיזות</th>\n",
       "      <th></th>\n",
       "    </tr>\n",
       "    <tr>\n",
       "      <th>שם שפה עברית</th>\n",
       "      <th></th>\n",
       "      <th></th>\n",
       "      <th></th>\n",
       "      <th></th>\n",
       "      <th></th>\n",
       "    </tr>\n",
       "  </thead>\n",
       "  <tbody>\n",
       "    <tr>\n",
       "      <th>עברית</th>\n",
       "      <td>Hebrew</td>\n",
       "      <td>العبرية</td>\n",
       "      <td>heb</td>\n",
       "      <td>العبرية</td>\n",
       "      <td></td>\n",
       "    </tr>\n",
       "    <tr>\n",
       "      <th>אנגלית</th>\n",
       "      <td>English</td>\n",
       "      <td>الإنجليزية</td>\n",
       "      <td>eng</td>\n",
       "      <td>الإنجليزية</td>\n",
       "      <td></td>\n",
       "    </tr>\n",
       "    <tr>\n",
       "      <th>ערבית</th>\n",
       "      <td>Arabic</td>\n",
       "      <td>العربية</td>\n",
       "      <td>ara</td>\n",
       "      <td>العربية</td>\n",
       "      <td></td>\n",
       "    </tr>\n",
       "    <tr>\n",
       "      <th>יידיש</th>\n",
       "      <td>Yiddish</td>\n",
       "      <td></td>\n",
       "      <td>yid</td>\n",
       "      <td></td>\n",
       "      <td></td>\n",
       "    </tr>\n",
       "    <tr>\n",
       "      <th>גרמנית</th>\n",
       "      <td>German</td>\n",
       "      <td>ألألمانية</td>\n",
       "      <td>ger</td>\n",
       "      <td>ألألمانية</td>\n",
       "      <td></td>\n",
       "    </tr>\n",
       "  </tbody>\n",
       "</table>\n",
       "</div>"
      ],
      "text/plain": [
       "             שם שפה אנגלית שם שפה ערבית קוד שפה שם שפה ערבית רמיזות  \n",
       "שם שפה עברית                                                         \n",
       "עברית               Hebrew      العبرية     heb             العبرية  \n",
       "אנגלית             English   الإنجليزية     eng          الإنجليزية  \n",
       "ערבית               Arabic      العربية     ara             العربية  \n",
       "יידיש              Yiddish                  yid                      \n",
       "גרמנית              German    ألألمانية     ger           ألألمانية  "
      ]
     },
     "execution_count": 18,
     "metadata": {},
     "output_type": "execute_result"
    }
   ],
   "source": [
    "Authority_instance.df_languages.head()"
   ]
  },
  {
   "cell_type": "code",
   "execution_count": 26,
   "metadata": {},
   "outputs": [
    {
     "data": {
      "text/plain": [
       "'heb'"
      ]
     },
     "execution_count": 26,
     "metadata": {},
     "output_type": "execute_result"
    }
   ],
   "source": [
    "Authority_instance.df_languages.loc[Authority_instance.df_languages.loc[Authority_instance.df_languages[\"שם שפה ערבית\"]==\"العبرية\"].index[0], \"קוד שפה\"]"
   ]
  },
  {
   "cell_type": "code",
   "execution_count": null,
   "metadata": {},
   "outputs": [],
   "source": [
    "\n",
    "test_ara_dict = Authority_instance.df_languages[[\"שם שפה ערבית\", \"קוד שפה\"]].to_dict()\n",
    "for k, v in language_mapping_dict_ara.items():\n",
    "    print(f'k: {k}, v: {v}, language: {check_lang(k)}\\n')\n",
    "\n",
    "\n",
    "# test_ara_dict.values()"
   ]
  },
  {
   "cell_type": "code",
   "execution_count": null,
   "metadata": {},
   "outputs": [],
   "source": [
    "# language_mapping_dict_ara[\"الانجليزية\"]\n",
    "eng1 = \"الإنجليزية\"\n",
    "eng2 = \"الانجليزية\"\n",
    "\n",
    "for i in range(10):\n",
    "    print(eng1[i], \" | \", eng2[i], \" | \", eng1[i]==eng2[i])\n"
   ]
  },
  {
   "cell_type": "code",
   "execution_count": null,
   "metadata": {},
   "outputs": [],
   "source": [
    "Authority_instance.df_languages.to_dict()[\"קוד שפה\"][\"שלום\"]"
   ]
  },
  {
   "cell_type": "code",
   "execution_count": null,
   "metadata": {},
   "outputs": [],
   "source": [
    "{k: v for k, v in test_ara_dict.items() if k != ''}\n"
   ]
  },
  {
   "cell_type": "code",
   "execution_count": null,
   "metadata": {},
   "outputs": [],
   "source": [
    "Authority_instance.language_mapping_dict"
   ]
  },
  {
   "cell_type": "code",
   "execution_count": null,
   "metadata": {},
   "outputs": [],
   "source": [
    "Authority_instance.df_languages.to_dict()"
   ]
  },
  {
   "cell_type": "code",
   "execution_count": null,
   "metadata": {},
   "outputs": [],
   "source": []
  }
 ],
 "metadata": {
  "kernelspec": {
   "display_name": "Python 3",
   "language": "python",
   "name": "python3"
  },
  "language_info": {
   "codemirror_mode": {
    "name": "ipython",
    "version": 3
   },
   "file_extension": ".py",
   "mimetype": "text/x-python",
   "name": "python",
   "nbconvert_exporter": "python",
   "pygments_lexer": "ipython3",
   "version": "3.8.6rc1"
  }
 },
 "nbformat": 4,
 "nbformat_minor": 2
}
