{
 "cells": [
  {
   "cell_type": "code",
   "execution_count": 1,
   "metadata": {},
   "outputs": [
    {
     "name": "stderr",
     "output_type": "stream",
     "text": [
      "Refreshing access_token\n",
      "G:\\My Drive\\National_Library\\Python\\VisualArts_Preprocessing\\VC_collections\\AuthorityFiles.py:98: FutureWarning: In a future version of pandas all arguments of DataFrame.drop except for the argument 'labels' will be keyword-only.\n",
      "  df_media_format_auth = df_media_format_auth.drop(\"TEMP\", 1)\n"
     ]
    }
   ],
   "source": [
    "from VC_collections import Collection\n",
    "from VC_collections.Collection import connect_to_google_drive\n",
    "from VC_collections.AuthorityFiles import Authority_instance\n",
    "from VC_collections.authorities import check_lang\n",
    "import gspread\n",
    "import pandas as pd\n"
   ]
  },
  {
   "cell_type": "code",
   "execution_count": null,
   "metadata": {},
   "outputs": [],
   "source": [
    "cred = Collection.get_google_drive_credentials()\n",
    "client = gspread.authorize(cred)\n",
    "len(client.list_spreadsheet_files())"
   ]
  },
  {
   "cell_type": "code",
   "execution_count": null,
   "metadata": {},
   "outputs": [],
   "source": [
    "collection = Collection.retrieve_collection()"
   ]
  },
  {
   "cell_type": "code",
   "execution_count": null,
   "metadata": {},
   "outputs": [],
   "source": [
    "check_lang(collection.df_final_data.loc[collection.df_final_data[\"תיאור\"]!=''][\"תיאור\"].tolist()[0])"
   ]
  },
  {
   "cell_type": "code",
   "execution_count": null,
   "metadata": {},
   "outputs": [],
   "source": [
    "check_lang(\"asdsdf\")"
   ]
  },
  {
   "cell_type": "code",
   "execution_count": null,
   "metadata": {},
   "outputs": [],
   "source": [
    "from VC_collections.AuthorityFiles import create_df_from_gs\n",
    "spreadsheet = client.open_by_url(\n",
    "            \"https://docs.google.com/spreadsheets/d/1736sL9unbiOMbcrIYgSkCSvhU2-LCthSLVtYLPSpZ98\"\n",
    "        )\n"
   ]
  },
  {
   "cell_type": "code",
   "execution_count": null,
   "metadata": {},
   "outputs": [],
   "source": [
    " Authority_instance.df_countries_ara.to_dict()[\"MARC\"][\"سويسرا\"]"
   ]
  },
  {
   "cell_type": "code",
   "execution_count": null,
   "metadata": {},
   "outputs": [],
   "source": [
    "Authority_instance.language_mapping_dict_ara"
   ]
  },
  {
   "cell_type": "markdown",
   "metadata": {},
   "source": [
    "# Country of publication"
   ]
  },
  {
   "cell_type": "code",
   "execution_count": null,
   "metadata": {},
   "outputs": [],
   "source": [
    "df_country, df_country_cols = create_df_from_gs(spreadsheet, \"מדינת פרסום\")"
   ]
  },
  {
   "cell_type": "code",
   "execution_count": null,
   "metadata": {},
   "outputs": [],
   "source": [
    "df_country.head()"
   ]
  },
  {
   "cell_type": "code",
   "execution_count": null,
   "metadata": {},
   "outputs": [],
   "source": [
    "Authority_instance.df_countries.set_index(\"מדינת פרסום בערבית\").to_dict()[\"MARC\"]"
   ]
  },
  {
   "cell_type": "code",
   "execution_count": null,
   "metadata": {},
   "outputs": [],
   "source": [
    "Authority_instance.countries_mapping_dict_ara"
   ]
  },
  {
   "cell_type": "code",
   "execution_count": null,
   "metadata": {},
   "outputs": [],
   "source": [
    "{k: v for k, v in Authority_instance.countries_mapping_dict_ara.items() if v}"
   ]
  },
  {
   "cell_type": "markdown",
   "metadata": {},
   "source": [
    "# Subjects"
   ]
  },
  {
   "cell_type": "code",
   "execution_count": null,
   "metadata": {},
   "outputs": [],
   "source": [
    "df_subjects, df_subjects_cols = create_df_from_gs(spreadsheet, \"נושאים\")\n",
    "df_subjects.head()"
   ]
  },
  {
   "cell_type": "code",
   "execution_count": null,
   "metadata": {},
   "outputs": [],
   "source": [
    "df_subjects_mapper = df_subjects.set_index(\"נושא עברית\").to_dict()[\"650 7\"]\n",
    "for key, value in df_subjects_mapper.items():\n",
    "    print(f'key: {key}, value: {value}')"
   ]
  },
  {
   "cell_type": "code",
   "execution_count": null,
   "metadata": {},
   "outputs": [],
   "source": [
    "type(df_subjects)"
   ]
  },
  {
   "cell_type": "markdown",
   "metadata": {},
   "source": [
    "# Subjects"
   ]
  },
  {
   "cell_type": "code",
   "execution_count": 2,
   "metadata": {},
   "outputs": [],
   "source": [
    "# Authority_instance.df_subject_mapper\n",
    "\n",
    "subject_mapper = {k: v for k, v in Authority_instance.df_subject_mapper.items() if v}"
   ]
  },
  {
   "cell_type": "code",
   "execution_count": 6,
   "metadata": {},
   "outputs": [
    {
     "data": {
      "text/plain": [
       "['$$aJewish art$$9lat$$2NLI',\n",
       " '$$alighting fixtures$$2aat$$9lat',\n",
       " '$$aConcrete$$9lat$$2NLI',\n",
       " '$$aTeaching$$2lcsh$$9lat$$0http://id.loc.gov/authorities/subjects/sh85133052',\n",
       " '$$aSpace and time in the theater$$9lat$$2NLI',\n",
       " '$$aTelevision and theater$$9lat$$2NLI',\n",
       " '$$aPain in the theater$$9lat$$2NLI',\n",
       " '$$aHouse furnishings$$9lat$$2lcsh$$0http://id.loc.gov/authorities/subjects/sh85062549',\n",
       " '$$aMorphology $$9lat$$2NLI',\n",
       " '$$aFasion design$$9lat$$2NLI',\n",
       " '$$aInterior Architecture$$2lcsh$$9$$0http://id.loc.gov/authorities/subjects/sh85067271',\n",
       " '$$aTextile design$$zIsrael$$9lat$$2NLI',\n",
       " '$$aTools$$xDesign and construction$$2lcsh$$9lat$$0http://id.loc.gov/authorities/subjects/sh2001000754',\n",
       " '$$aDesign$$xStudy and teaching$$9lat',\n",
       " '$$aProduct design$$2lcsh$$9lat$$0http://id.loc.gov/authorities/subjects/sh2010012117',\n",
       " '$$aShoes$$xDesign$$2fst$$9lat$$0http://id.worldcat.org/fast/1116774',\n",
       " '$$aToys$$xDesign and contruction$$9lat$$2fst$$0http://id.worldcat.org/fast/115349',\n",
       " '$$aFashion design$$zIsrael$$2NLI',\n",
       " '$$aJewelry$$xDesign$$9lat$$2fst$$0http://id.worldcat.org/fast/982538',\n",
       " '$$aFigurines$$2lcsh$$0http://id.loc.gov/authorities/subjects/sh85048176',\n",
       " '$$aParody$$2NLI$9lat',\n",
       " '$$aTheater audiences$$9lat$$2NLI',\n",
       " '$$aMotion pictures, German$$9lat$$2NLI',\n",
       " '$$aComedy$$9lat$$2NLI',\n",
       " \"$$aComeddia dell'arte$$9lat$$2NLI\",\n",
       " '$$aComedies of manners$$9lat$$2NLI',\n",
       " '$$aKibbutz$$9lat$$2NLI',\n",
       " '$$a$$9lat$$2NLI',\n",
       " '$$a$$9lat$$2NLI']"
      ]
     },
     "execution_count": 6,
     "metadata": {},
     "output_type": "execute_result"
    }
   ],
   "source": [
    "list(subject_mapper.values())"
   ]
  },
  {
   "cell_type": "code",
   "execution_count": null,
   "metadata": {},
   "outputs": [],
   "source": [
    "Authority_instance.df_subject_mapper"
   ]
  },
  {
   "cell_type": "markdown",
   "metadata": {},
   "source": [
    "# Archival Material"
   ]
  },
  {
   "cell_type": "code",
   "execution_count": null,
   "metadata": {},
   "outputs": [],
   "source": [
    "from VC_collections.AuthorityFiles import Authority_instance\n",
    "import pprint\n",
    "from collections import defaultdict"
   ]
  },
  {
   "cell_type": "code",
   "execution_count": null,
   "metadata": {},
   "outputs": [],
   "source": [
    "Authority_instance.df_arch_mat_search[\"all_terms\"]"
   ]
  },
  {
   "cell_type": "code",
   "execution_count": null,
   "metadata": {},
   "outputs": [],
   "source": [
    "def convert_dict(new_val2errs):\n",
    "    d = defaultdict(list)\n",
    "    for nv, errs in new_val2errs.items():\n",
    "        if type(errs) == str:\n",
    "            errs = errs.split(\";\")\n",
    "        for err in errs:\n",
    "            if err != \"\":\n",
    "                d[err].append(nv)\n",
    "    return d\n",
    "\n",
    "pprint.pprint(convert_dict(Authority_instance.arch_mat_search_dict))"
   ]
  },
  {
   "cell_type": "code",
   "execution_count": null,
   "metadata": {},
   "outputs": [],
   "source": [
    "pprint.pprint(Authority_instance.arch_mat_search_dict)"
   ]
  },
  {
   "cell_type": "markdown",
   "metadata": {},
   "source": [
    "# Media Format"
   ]
  },
  {
   "cell_type": "code",
   "execution_count": null,
   "metadata": {},
   "outputs": [],
   "source": [
    "Authority_instance.df_media_format_auth[Authority_instance.df_media_format_auth[\"MEDIA_FORMAT\"].str.contains(\"עץ\")]"
   ]
  },
  {
   "cell_type": "markdown",
   "metadata": {},
   "source": [
    "# Privacy"
   ]
  },
  {
   "cell_type": "code",
   "execution_count": null,
   "metadata": {},
   "outputs": [],
   "source": [
    "privacy_mapping_dict = pd.Series(Authority_instance.df_privacy_values[\"רמיזות\"].values,\n",
    "                                 index=Authority_instance.df_privacy_values.index.values).to_dict()"
   ]
  },
  {
   "cell_type": "code",
   "execution_count": null,
   "metadata": {},
   "outputs": [],
   "source": [
    "privacy_mapping_dict"
   ]
  },
  {
   "cell_type": "code",
   "execution_count": null,
   "metadata": {},
   "outputs": [],
   "source": [
    "search_dict = pd.Series(Authority_instance.df_privacy_values[\"רמיזות\"].apply(lambda x: x.split(\";\")), \n",
    "                                                               index = Authority_instance.df_privacy_values.index.values).to_dict()"
   ]
  },
  {
   "cell_type": "code",
   "execution_count": null,
   "metadata": {},
   "outputs": [],
   "source": [
    "new_search_dict = {}\n",
    "\n",
    "for key, value in search_dict.items():\n",
    "    if len(value)>1:\n",
    "        for item in value:\n",
    "            new_search_dict[item] = key\n",
    "    else:\n",
    "        new_search_dict[value[0]] = key"
   ]
  },
  {
   "cell_type": "code",
   "execution_count": null,
   "metadata": {},
   "outputs": [],
   "source": [
    "new_search_dict.keys()"
   ]
  },
  {
   "cell_type": "code",
   "execution_count": null,
   "metadata": {},
   "outputs": [],
   "source": [
    "from VC_collections.authorities import convert_dict\n",
    "convert_dict(new_search_dict)"
   ]
  },
  {
   "cell_type": "code",
   "execution_count": null,
   "metadata": {},
   "outputs": [],
   "source": [
    "for key, value in convert_dict(new_search_dict).items():\n",
    "    print(f'key:{key}\\nvalue:{value}\\n')"
   ]
  },
  {
   "cell_type": "code",
   "execution_count": null,
   "metadata": {},
   "outputs": [],
   "source": [
    "for key, value in Authority_instance.arch_mat_search_dict.items():\n",
    "    print(f'key:{key}\\nvalue:{value}\\n')\n"
   ]
  },
  {
   "cell_type": "markdown",
   "metadata": {},
   "source": [
    "# split creators"
   ]
  },
  {
   "cell_type": "code",
   "execution_count": null,
   "metadata": {},
   "outputs": [],
   "source": [
    "from VC_collections.AuthorityFiles import Authority_instance\n",
    "from VC_collections.authorities import find_role, find_name\n",
    "import pandas as pd"
   ]
  },
  {
   "cell_type": "code",
   "execution_count": null,
   "metadata": {},
   "outputs": [],
   "source": [
    "Authority_instance.df_creator_pers_role.head()"
   ]
  },
  {
   "cell_type": "code",
   "execution_count": null,
   "metadata": {},
   "outputs": [],
   "source": [
    "Authority_instance.df_creator_pers_role[\"CREATORS_PERS_ROLE_ARA\"]"
   ]
  },
  {
   "cell_type": "code",
   "execution_count": null,
   "metadata": {},
   "outputs": [],
   "source": [
    "Authority_instance.df_creator_corps_role.head()"
   ]
  },
  {
   "cell_type": "code",
   "execution_count": null,
   "metadata": {},
   "outputs": [],
   "source": []
  },
  {
   "cell_type": "code",
   "execution_count": null,
   "metadata": {},
   "outputs": [],
   "source": [
    "df = pd.ExcelFile(r'Data/PYaVa_Creators.xlsx').parse(\"Sheet1\")\n",
    "df = df.set_index(\"סימול\")"
   ]
  },
  {
   "cell_type": "code",
   "execution_count": null,
   "metadata": {},
   "outputs": [],
   "source": []
  },
  {
   "cell_type": "code",
   "execution_count": null,
   "metadata": {},
   "outputs": [],
   "source": [
    "df[\"יוצר ראשי - איש\"] = ''\n",
    "df[\"סוג יוצר ראשי - איש\"] = ''\n",
    "df[\"יוצר ראשי - מוסד\"] = ''\n",
    "df[\"סוג יוצר ראשי - מוסד\"] = ''\n",
    "df[\"יוצרים נוספים - איש\"] = ''\n",
    "df[\"יוצרים נוספים - מוסד\"] = ''"
   ]
  },
  {
   "cell_type": "code",
   "execution_count": null,
   "metadata": {},
   "outputs": [],
   "source": [
    "\n",
    "def create_first(creators):\n",
    "\n",
    "    creator = creators.pop(0)\n",
    "    \n",
    "    return find_name(creator).strip(), find_role(creator).strip(), creators"
   ]
  },
  {
   "cell_type": "code",
   "execution_count": null,
   "metadata": {},
   "outputs": [],
   "source": [
    "import numpy as np\n",
    "roles_not_found = []\n",
    "\n",
    "for index, row in df.iterrows():\n",
    "\n",
    "    creators_pers = []\n",
    "    creators_corps = []\n",
    "    try:\n",
    "        creators = row[\"יוצרים\"].split(\";\")\n",
    "    except:\n",
    "        continue\n",
    "        \n",
    "    \n",
    "    \n",
    "    first_name, first_role, rest_creators = create_first(creators)\n",
    "    \n",
    "    if first_role in Authority_instance.roles_dict[\"pers_roles\"]:\n",
    "        df.loc[index, \"יוצר ראשי - איש\"] = first_name\n",
    "        df.loc[index, \"סוג יוצר ראשי - איש\"] = first_role\n",
    "    else:\n",
    "        df.loc[index, \"יוצר ראשי - מוסד\"] = first_name\n",
    "        df.loc[index, \"סוג יוצר ראשי - מוסד\"] = first_role\n",
    "    \n",
    "    for creator in rest_creators:\n",
    "        print(index)\n",
    "        role = find_role(creator).strip()\n",
    "        if role in Authority_instance.roles_dict[\"pers_roles\"]:\n",
    "            print(f'role: {role} is pers')\n",
    "            creators_pers.append(creator)\n",
    "        elif role in Authority_instance.roles_dict[\"corps_roles\"]:\n",
    "            creators_corps.append(creator)\n",
    "            print(f'role: {role} is corps')\n",
    "        else:\n",
    "            roles_not_found.append(creator)\n",
    "            \n",
    "    df.loc[index, \"יוצרים נוספים - איש\"] = \";\".join(creators_pers)\n",
    "    df.loc[index, \"יוצרים נוספים - מוסד\"] = \";\".join(creators_corps)\n",
    "    if len(roles_not_found) > 0:\n",
    "        print(roles_not_found)\n",
    "    "
   ]
  },
  {
   "cell_type": "code",
   "execution_count": null,
   "metadata": {},
   "outputs": [],
   "source": [
    "roles_not_found"
   ]
  },
  {
   "cell_type": "markdown",
   "metadata": {},
   "source": [
    "# Check level of description"
   ]
  },
  {
   "cell_type": "code",
   "execution_count": null,
   "metadata": {},
   "outputs": [],
   "source": [
    "Authority_instance.df_level"
   ]
  },
  {
   "cell_type": "code",
   "execution_count": null,
   "metadata": {},
   "outputs": [],
   "source": []
  },
  {
   "cell_type": "code",
   "execution_count": null,
   "metadata": {},
   "outputs": [],
   "source": [
    "df.to_excel(r'Data/PYaVa_creators_repair.xlsx')"
   ]
  },
  {
   "cell_type": "code",
   "execution_count": null,
   "metadata": {},
   "outputs": [],
   "source": [
    "collection.df_final_data[\"כותרת ערבית\"].empty"
   ]
  },
  {
   "cell_type": "code",
   "execution_count": null,
   "metadata": {},
   "outputs": [],
   "source": [
    "collection.df_final_data.columns"
   ]
  },
  {
   "cell_type": "code",
   "execution_count": null,
   "metadata": {},
   "outputs": [],
   "source": [
    "import pandas as pd"
   ]
  },
  {
   "cell_type": "code",
   "execution_count": null,
   "metadata": {},
   "outputs": [],
   "source": [
    "d= {'ניסיון': ['', '', '']}"
   ]
  },
  {
   "cell_type": "code",
   "execution_count": null,
   "metadata": {},
   "outputs": [],
   "source": [
    "test = pd.DataFrame(d)"
   ]
  },
  {
   "cell_type": "code",
   "execution_count": null,
   "metadata": {},
   "outputs": [],
   "source": [
    "\n",
    "len(test[test[\"ניסיון\"] != ''])"
   ]
  },
  {
   "cell_type": "code",
   "execution_count": null,
   "metadata": {},
   "outputs": [],
   "source": [
    "\"ArBe\" in Authority_instance.df_credits.index"
   ]
  },
  {
   "cell_type": "code",
   "execution_count": null,
   "metadata": {},
   "outputs": [],
   "source": [
    "Authority_instance.df_credits.loc[\"ArBe\", \"מיקום הפקדה עבור בעלים נוכחי\"]"
   ]
  },
  {
   "cell_type": "code",
   "execution_count": null,
   "metadata": {},
   "outputs": [],
   "source": [
    " test_data_with_dup = {\n",
    "            \"UNITID\": [\"ABCD\", \"ABCD\", \"ASDF\"]\n",
    "        }"
   ]
  },
  {
   "cell_type": "code",
   "execution_count": null,
   "metadata": {},
   "outputs": [],
   "source": [
    "df = pd.DataFrame(test_data_with_dup)\n",
    "df"
   ]
  },
  {
   "cell_type": "code",
   "execution_count": null,
   "metadata": {},
   "outputs": [],
   "source": [
    "from VC_collections.columns import dupCheck\n",
    "import pandas as pd"
   ]
  },
  {
   "cell_type": "code",
   "execution_count": null,
   "metadata": {},
   "outputs": [],
   "source": [
    "dupCheck(df, \"UNITID\")"
   ]
  },
  {
   "cell_type": "code",
   "execution_count": null,
   "metadata": {},
   "outputs": [],
   "source": [
    "\n",
    "pd.concat(g for _, g in df.groupby(\"UNITID\") if len(g) > 1)"
   ]
  },
  {
   "cell_type": "code",
   "execution_count": null,
   "metadata": {},
   "outputs": [],
   "source": [
    "import numpy as np\n",
    "df[\"test\"] = ''"
   ]
  },
  {
   "cell_type": "code",
   "execution_count": null,
   "metadata": {},
   "outputs": [],
   "source": [
    "df"
   ]
  },
  {
   "cell_type": "code",
   "execution_count": null,
   "metadata": {},
   "outputs": [],
   "source": [
    "df[\"test\"].dropna().empty"
   ]
  },
  {
   "cell_type": "code",
   "execution_count": null,
   "metadata": {},
   "outputs": [],
   "source": [
    "df[\"test\"] = df[\"test\"].dropna()"
   ]
  },
  {
   "cell_type": "code",
   "execution_count": null,
   "metadata": {},
   "outputs": [],
   "source": [
    "df"
   ]
  },
  {
   "cell_type": "code",
   "execution_count": null,
   "metadata": {},
   "outputs": [],
   "source": [
    "df[\"test\"].empty"
   ]
  },
  {
   "cell_type": "code",
   "execution_count": null,
   "metadata": {},
   "outputs": [],
   "source": [
    "test_008 = \"191104k19811981is#xx###############heb#d\""
   ]
  },
  {
   "cell_type": "code",
   "execution_count": null,
   "metadata": {},
   "outputs": [],
   "source": [
    "test_008[:7]  + \"19841984\" + test_008[15:]"
   ]
  },
  {
   "cell_type": "code",
   "execution_count": null,
   "metadata": {},
   "outputs": [],
   "source": [
    "from viapy import api"
   ]
  },
  {
   "cell_type": "code",
   "execution_count": null,
   "metadata": {},
   "outputs": [],
   "source": [
    "from urllib.request import urlopen, quote\n",
    "# if you're running python 3, replace the above with the following:\n",
    "# from urllib.request import urlopen\n",
    "# from urllib.parse import quote\n",
    "\n",
    "def retrieve_viaf_search_results(search_index, search_term, auth_source):\n",
    "    # url search template formatted to allow easy variable insertion\n",
    "    search_url_template = 'http://viaf.org/viaf/search/viaf?query=local.{0}+all+{1}+and+local.sources+any+{2}&sortKeys=holdingscount&httpAccept=application/xml'\n",
    "    \n",
    "    # since we'll be inserting the three passed variables into the \n",
    "    # html search template, we need to make sure to \"escape\" any\n",
    "    # special characters. VIAF also requires that they be enclosed in\n",
    "    # quotes, which themselves have to be escaped. We can use urllib2's \n",
    "    # \"quote\" function for this:\n",
    "    auth_source = quote(f'\"{auth_source}\"')\n",
    "    search_term = quote(f'\"{search_term}\"')\n",
    "    \n",
    "    # build the full search url\n",
    "    search_url = search_url_template.format(search_index, search_term, auth_source)\n",
    "    \n",
    "    # query the url with urlopen and store the returned xml\n",
    "    response = urlopen(search_url).read()"
   ]
  },
  {
   "cell_type": "code",
   "execution_count": null,
   "metadata": {},
   "outputs": [],
   "source": [
    "retrieve_viaf_search_results(\"persname\", \"צרפתי, רות\")"
   ]
  },
  {
   "cell_type": "markdown",
   "metadata": {},
   "source": [
    "# Arabic"
   ]
  },
  {
   "cell_type": "code",
   "execution_count": null,
   "metadata": {},
   "outputs": [],
   "source": [
    "spreadsheet = client.open_by_url(\n",
    "            \"https://docs.google.com/spreadsheets/d/1736sL9unbiOMbcrIYgSkCSvhU2-LCthSLVtYLPSpZ98\")"
   ]
  },
  {
   "cell_type": "code",
   "execution_count": null,
   "metadata": {},
   "outputs": [],
   "source": [
    "from VC_collections.AuthorityFiles import Authority"
   ]
  },
  {
   "cell_type": "code",
   "execution_count": null,
   "metadata": {},
   "outputs": [],
   "source": [
    "import alphabet_detector"
   ]
  },
  {
   "cell_type": "code",
   "execution_count": null,
   "metadata": {},
   "outputs": [],
   "source": [
    "ad = alphabet_detector.AlphabetDetector()"
   ]
  },
  {
   "cell_type": "code",
   "execution_count": null,
   "metadata": {},
   "outputs": [],
   "source": [
    "test_lang = \"'اسرائيل;الاردن'\""
   ]
  },
  {
   "cell_type": "code",
   "execution_count": null,
   "metadata": {},
   "outputs": [],
   "source": [
    "test_lang2 = 'התיקייה מכילה קבצים דיגיטליים של ההצגה \"The house of Bernarda Alba\" שעלתה בשנת 2008 ב-Belgrade Theatre, בקובנטרי, בריטניה. התיקייה מכילה: תצלומים מההצגה, ביקורות, התכתבויות, חומרי רקע ומחקר, תצלומים שונים ששמשו להשראה, תצלומי מקט, רשימות שונות, סקיצות תפאורה ותלבושות, תצלומים מחזרות וממדידות, טקסטים להצגה, מפרטים טכניים, שרטוטים ותכניות רצפה, תצלומים של האולם, תצלומים מהפקות קודמות של המחזה, לו\"ז להפקה, לינקים וחומרים הקשורים להתנהלות המנהלית של ההפקה. מתוך החומרים הונגשו סקיצות, תצלומים ומידע על ההצגה. '"
   ]
  },
  {
   "cell_type": "code",
   "execution_count": null,
   "metadata": {},
   "outputs": [],
   "source": [
    "ad.detect_alphabet(test_lang2[:3])"
   ]
  },
  {
   "cell_type": "code",
   "execution_count": null,
   "metadata": {},
   "outputs": [],
   "source": [
    "ad.detect_alphabet(test_lang)"
   ]
  },
  {
   "cell_type": "code",
   "execution_count": null,
   "metadata": {},
   "outputs": [],
   "source": [
    "check_lang(test_lang)"
   ]
  },
  {
   "cell_type": "code",
   "execution_count": null,
   "metadata": {},
   "outputs": [],
   "source": [
    "Authority_instance.df_creator_pers_role"
   ]
  },
  {
   "cell_type": "code",
   "execution_count": null,
   "metadata": {},
   "outputs": [],
   "source": [
    "language_mapping_dict_ara = Authority_instance.df_languages.loc[Authority_instance.df_languages[\"שם שפה ערבית\"]!=\"\"].reset_index().set_index(\"שם שפה ערבית\")[[\"קוד שפה\"]].to_dict()['קוד שפה']"
   ]
  },
  {
   "cell_type": "code",
   "execution_count": null,
   "metadata": {},
   "outputs": [],
   "source": [
    "Authority_instance.df_languages.head()"
   ]
  },
  {
   "cell_type": "code",
   "execution_count": null,
   "metadata": {},
   "outputs": [],
   "source": [
    "Authority_instance.df_languages.loc[Authority_instance.df_languages.loc[Authority_instance.df_languages[\"שם שפה ערבית\"]==\"العبرية\"].index[0], \"קוד שפה\"]"
   ]
  },
  {
   "cell_type": "code",
   "execution_count": null,
   "metadata": {},
   "outputs": [],
   "source": [
    "\n",
    "test_ara_dict = Authority_instance.df_languages[[\"שם שפה ערבית\", \"קוד שפה\"]].to_dict()\n",
    "for k, v in language_mapping_dict_ara.items():\n",
    "    print(f'k: {k}, v: {v}, language: {check_lang(k)}\\n')\n",
    "\n",
    "\n",
    "# test_ara_dict.values()"
   ]
  },
  {
   "cell_type": "code",
   "execution_count": null,
   "metadata": {},
   "outputs": [],
   "source": [
    "# language_mapping_dict_ara[\"الانجليزية\"]"
   ]
  },
  {
   "cell_type": "code",
   "execution_count": null,
   "metadata": {},
   "outputs": [],
   "source": [
    "eng1 = \"الإنجليزية\"\n",
    "eng2 = \"الانجليزية\"\n",
    "\n",
    "for i in range(10):\n",
    "    print(eng1[i], \" | \", eng2[i], \" | \", eng1[i]==eng2[i])"
   ]
  },
  {
   "cell_type": "code",
   "execution_count": null,
   "metadata": {},
   "outputs": [],
   "source": [
    "Authority_instance.df_languages.to_dict()[\"קוד שפה\"][\"שלום\"]"
   ]
  },
  {
   "cell_type": "code",
   "execution_count": null,
   "metadata": {},
   "outputs": [],
   "source": [
    "{k: v for k, v in test_ara_dict.items() if k != ''}\n"
   ]
  },
  {
   "cell_type": "code",
   "execution_count": null,
   "metadata": {},
   "outputs": [],
   "source": [
    "Authority_instance.language_mapping_dict"
   ]
  },
  {
   "cell_type": "code",
   "execution_count": null,
   "metadata": {},
   "outputs": [],
   "source": [
    "Authority_instance.df_languages.to_dict()"
   ]
  },
  {
   "cell_type": "markdown",
   "metadata": {},
   "source": [
    "## xml "
   ]
  },
  {
   "cell_type": "code",
   "execution_count": null,
   "metadata": {},
   "outputs": [],
   "source": [
    "import xml.etree.ElementTree as ET\n",
    "from pathlib import Path\n",
    "import pymarc\n",
    "from pymarc import XmlHandler\n",
    "\n",
    "file_path = r\"G:\\My Drive\\National_Library\\Python\\VC-Dance\\DCSD\\Digitization\\ROS\\DCSD_907.xml\""
   ]
  },
  {
   "cell_type": "code",
   "execution_count": null,
   "metadata": {},
   "outputs": [],
   "source": [
    "tree = ET.parse(file_path)\n",
    "root = tree.getroot()"
   ]
  },
  {
   "cell_type": "code",
   "execution_count": null,
   "metadata": {},
   "outputs": [],
   "source": [
    "\n",
    "records = pymarc.marcxml.parse_xml_to_array(file_path)"
   ]
  },
  {
   "cell_type": "code",
   "execution_count": null,
   "metadata": {},
   "outputs": [],
   "source": [
    "from collections import defaultdict\n",
    "\n",
    "d = defaultdict(list)\n",
    "\n",
    "for record in records:\n",
    "    for field in record.get_fields(\"952\"):\n",
    "        print(\"$$\"+ \" \".join(str(field.as_marc(encoding=\"utf8\"), \"utf8\").split()))\n",
    "\n",
    "#         print(record[\"001\"].value(), field.subfields)\n",
    "#     print([x for x in record.get_fields(\"915\").get_subfields()])\n",
    "        \n",
    "#     d[record[\"001\"].value()] = \";\".join([x.subfields() for x in record.get_fields(\"915\")])\n",
    "\n"
   ]
  },
  {
   "cell_type": "code",
   "execution_count": null,
   "metadata": {},
   "outputs": [],
   "source": [
    "for key, val in dict(d).items():\n",
    "    print(f\"key: {key}, val: {val}\")"
   ]
  },
  {
   "cell_type": "code",
   "execution_count": null,
   "metadata": {},
   "outputs": [],
   "source": [
    "dict(d)"
   ]
  },
  {
   "cell_type": "code",
   "execution_count": null,
   "metadata": {},
   "outputs": [],
   "source": [
    "def create_field_dict(file, tag):\n",
    "    handler = XmlHandler()\n",
    "    records = pymarc.marcxml.parse_xml_to_array(file)\n",
    "    dd = defaultdict(lambda: defaultdict(str))\n",
    "    for record in records:\n",
    "\n",
    "        index = 1\n",
    "        for field in record.get_fields(tag):\n",
    "            key = f'{field.tag}{\"\".join(field.indicators)}_{index}'\n",
    "            key = \"\".join([x for x in key if x != \" \"])\n",
    "            value = \"\"\n",
    "            for subfield in field.subfields:\n",
    "                if len(subfield) == 1:\n",
    "                    value += f\"$${subfield}\"\n",
    "                else:\n",
    "                    value += subfield\n",
    "            dd[record[\"001\"].value()][key] = value\n",
    "            index += 1\n",
    "\n",
    "    return dd"
   ]
  },
  {
   "cell_type": "code",
   "execution_count": null,
   "metadata": {},
   "outputs": [],
   "source": [
    "from xml.dom import minidom\n",
    "\n",
    "# rosetta_file = minidom.parse(file_path)\n",
    "\n",
    "create_field_dict(file_path, \"952\")"
   ]
  },
  {
   "cell_type": "code",
   "execution_count": null,
   "metadata": {},
   "outputs": [],
   "source": [
    "dd  = create_field_dict(file_path, \"952\")\n",
    "text = dd[\"990049233660205171\"][\"952_1\"]"
   ]
  },
  {
   "cell_type": "code",
   "execution_count": null,
   "metadata": {},
   "outputs": [],
   "source": [
    "dd.keys"
   ]
  },
  {
   "cell_type": "code",
   "execution_count": null,
   "metadata": {},
   "outputs": [],
   "source": [
    "test_dict = defaultdict(lambda: defaultdict(str))\n",
    "for record in records: \n",
    "#     print(record[\"001\"].value())\n",
    "#     test_dict[record[\"001\"].value()] = dict\n",
    "    index = 1\n",
    "    for field in record.get_fields(\"915\"):\n",
    "        key = f'{field.tag}{\"\".join(field.indicators)}_{index}'\n",
    "        key = \"\".join([x for x in key if x !=\" \"])\n",
    "        value = \"\"\n",
    "        for subfield in field.subfields:\n",
    "            if len(subfield) == 1:\n",
    "                value += f'$${subfield}'\n",
    "            else:\n",
    "                value += subfield\n",
    "#         print(value)\n",
    "        test_dict[record[\"001\"].value()][key] = value\n",
    "        index +=1\n",
    "                \n",
    "dict(test_dict)"
   ]
  },
  {
   "cell_type": "code",
   "execution_count": null,
   "metadata": {},
   "outputs": [],
   "source": [
    "record_test = records[1]\n",
    "for x in record_test.get_fields(\"700\")[0].subfields:\n",
    "    print(x)"
   ]
  },
  {
   "cell_type": "code",
   "execution_count": null,
   "metadata": {},
   "outputs": [],
   "source": [
    "def create_907_value(dict_907):\n",
    "    words = []\n",
    "    for tag, value in dict_907.items():\n",
    "\n",
    "        if len(value) == 0:\n",
    "            return \"\"\n",
    "        else:\n",
    "            if \"_\" in tag:\n",
    "\n",
    "                words.append(tag[5:] + value)\n",
    "            else:\n",
    "                words.append(tag[3:] + value)\n",
    "    return_val =\";\".join(words)\n",
    "    return_val.replace(\"$$$$\", \"$$\")\n",
    "    return return_val"
   ]
  },
  {
   "cell_type": "code",
   "execution_count": null,
   "metadata": {},
   "outputs": [],
   "source": [
    "create_907_value(test_dict[\"990052543680205171\"]).split(\";\")"
   ]
  },
  {
   "cell_type": "code",
   "execution_count": null,
   "metadata": {},
   "outputs": [],
   "source": [
    "test_data = pd.Series(['לא ידוע [מו\"ל];לא ידוע [מעצב גרפי];לא ידוע [מחבר]'], index =['יוצרים'])\n"
   ]
  },
  {
   "cell_type": "code",
   "execution_count": null,
   "metadata": {},
   "outputs": [],
   "source": [
    "test_data"
   ]
  },
  {
   "cell_type": "code",
   "execution_count": null,
   "metadata": {},
   "outputs": [],
   "source": [
    "from VC_collections.marc import find_unknown_multiple_in_column"
   ]
  },
  {
   "cell_type": "code",
   "execution_count": null,
   "metadata": {},
   "outputs": [],
   "source": [
    "find_unknown_multiple_in_column(test_data, \"יוצרים\")"
   ]
  },
  {
   "cell_type": "code",
   "execution_count": null,
   "metadata": {},
   "outputs": [],
   "source": [
    "test_data_unknown_and_multiple = pd.Series(['לא ידוע [מו\"ל];לא ידוע [מעצב גרפי];ריבוי [מחבר]'], index =['יוצרים'])\n",
    "(multiple_creators, unknown_roles, new_creators) = find_unknown_multiple_in_column(test_data_unknown_and_multiple, \"יוצרים\")\n",
    "print(f'multiple_creators: {multiple_creators}')\n",
    "print(f'unknown_roles: {unknown_roles}')\n",
    "print(f'new_creators: {new_creators}')\n"
   ]
  },
  {
   "cell_type": "code",
   "execution_count": null,
   "metadata": {},
   "outputs": [],
   "source": [
    "len(new_creators)"
   ]
  },
  {
   "cell_type": "code",
   "execution_count": null,
   "metadata": {},
   "outputs": [],
   "source": [
    "test_data_unknown_and_multiple_and_known = pd.Series(['ישראל ישראל [מו\"ל];לא ידוע [מעצב גרפי];ריבוי [מחבר]'], index =['יוצרים'])\n",
    "(multiple_creators, unknown_roles, new_creators) = find_unknown_multiple_in_column(test_data_unknown_and_multiple_and_known, \"יוצרים\")\n",
    "print(f'multiple_creators: {multiple_creators}')\n",
    "print(f'unknown_roles: {unknown_roles}')\n",
    "print(f'new_creators: {new_creators}')\n"
   ]
  },
  {
   "cell_type": "code",
   "execution_count": null,
   "metadata": {},
   "outputs": [],
   "source": [
    "test_data_nounknown_and_nomultiple = pd.Series(['ישראל ישראל [מו\"ל];לא ידוע [מעצב גרפי]; [מחבר]'], index =['יוצרים'])\n",
    "(multiple_creators, unknown_roles, new_creators) = find_unknown_multiple_in_column(test_data_unknown_and_multiple_and_known, \"יוצרים\")\n",
    "print(f'multiple_creators: {multiple_creators}')\n",
    "print(f'unknown_roles: {unknown_roles}')\n",
    "print(f'new_creators: {new_creators}')\n"
   ]
  },
  {
   "cell_type": "code",
   "execution_count": null,
   "metadata": {},
   "outputs": [],
   "source": [
    "multiple_creators"
   ]
  },
  {
   "cell_type": "code",
   "execution_count": null,
   "metadata": {},
   "outputs": [],
   "source": [
    "unknown_roles"
   ]
  },
  {
   "cell_type": "code",
   "execution_count": null,
   "metadata": {},
   "outputs": [],
   "source": [
    "new_creators"
   ]
  },
  {
   "cell_type": "code",
   "execution_count": null,
   "metadata": {},
   "outputs": [],
   "source": []
  }
 ],
 "metadata": {
  "kernelspec": {
   "display_name": "Python 3",
   "language": "python",
   "name": "python3"
  },
  "language_info": {
   "codemirror_mode": {
    "name": "ipython",
    "version": 3
   },
   "file_extension": ".py",
   "mimetype": "text/x-python",
   "name": "python",
   "nbconvert_exporter": "python",
   "pygments_lexer": "ipython3",
   "version": "3.8.6rc1"
  }
 },
 "nbformat": 4,
 "nbformat_minor": 2
}
