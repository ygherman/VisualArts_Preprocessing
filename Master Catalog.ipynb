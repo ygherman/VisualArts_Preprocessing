{
 "cells": [
  {
   "cell_type": "code",
   "execution_count": 1,
   "metadata": {},
   "outputs": [],
   "source": [
    "from VC_collections import Collection\n",
    "from VC_collections.Collection import connect_to_google_drive\n",
    "from VC_collections.AuthorityFiles import Authority_instance\n",
    "from preprocess_1 import update_df_in_gdrive\n",
    "import gspread\n",
    "import pandas as pd"
   ]
  },
  {
   "cell_type": "code",
   "execution_count": 2,
   "metadata": {},
   "outputs": [],
   "source": [
    "cred = Collection.get_google_drive_credentials()\n",
    "client = gspread.authorize(cred)"
   ]
  },
  {
   "cell_type": "markdown",
   "metadata": {},
   "source": [
    "# Create One big Dataframe of all tables"
   ]
  },
  {
   "cell_type": "code",
   "execution_count": 12,
   "metadata": {},
   "outputs": [],
   "source": [
    "catalog_files = {\n",
    "    \"Architect\": \"1EhFxuphaOu-S8rZy_7O8OuLk3BMH_rAXjOTqDg5yMvY\",\n",
    "    \"Dance\": \"1WcqUNkDhNbDyTdYLU_S3TbVkjZ6G03m36_9FqvBgaSc\",\n",
    "    \"Design\": \"1M-vegxBcBI7J5hZvoqLkQQ7ATxMmfyyrFpAX4-vR7FM\",\n",
    "    \"Theater\": \"1goBGosdUcCLzmdxIuF1SRYgk_mIT-eIsCJgdvd69rCw\",\n",
    "}\n",
    "\n",
    "\n",
    "def create_df_from_gspread(client, branch):\n",
    "    spread = client.open_by_key(catalog_files[branch])\n",
    "    sheet = spread.worksheet(\"Master Catalog\")\n",
    "    df = pd.DataFrame(sheet.get_all_values())\n",
    "    new_header = df.iloc[0] #grab the first row for the header\n",
    "    df = df[1:] #take the data less the header row\n",
    "    df.columns = new_header #set the header row as the df header\n",
    "    df.set_index(\"MMS id\", inplace=True)\n",
    "    return df"
   ]
  },
  {
   "cell_type": "code",
   "execution_count": 8,
   "metadata": {},
   "outputs": [],
   "source": [
    "df_Architect = create_df_from_gspread(client, \"Architect\")"
   ]
  },
  {
   "cell_type": "code",
   "execution_count": 9,
   "metadata": {},
   "outputs": [],
   "source": [
    "df_Dance = create_df_from_gspread(client, \"Dance\")"
   ]
  },
  {
   "cell_type": "code",
   "execution_count": 16,
   "metadata": {},
   "outputs": [],
   "source": [
    "df_Design = create_df_from_gspread(client, \"Design\")"
   ]
  },
  {
   "cell_type": "code",
   "execution_count": 15,
   "metadata": {},
   "outputs": [],
   "source": [
    "df_Theater = create_df_from_gspread(client, \"Theater\")"
   ]
  },
  {
   "cell_type": "code",
   "execution_count": 17,
   "metadata": {},
   "outputs": [],
   "source": [
    "master_catalog = pd.concat([df_Architect, df_Dance, df_Design, df_Theater])"
   ]
  },
  {
   "cell_type": "code",
   "execution_count": 18,
   "metadata": {},
   "outputs": [],
   "source": [
    "master_catalog.index = master_catalog.index.astype(str)"
   ]
  },
  {
   "cell_type": "code",
   "execution_count": 19,
   "metadata": {},
   "outputs": [
    {
     "data": {
      "text/html": [
       "<div>\n",
       "<style scoped>\n",
       "    .dataframe tbody tr th:only-of-type {\n",
       "        vertical-align: middle;\n",
       "    }\n",
       "\n",
       "    .dataframe tbody tr th {\n",
       "        vertical-align: top;\n",
       "    }\n",
       "\n",
       "    .dataframe thead th {\n",
       "        text-align: right;\n",
       "    }\n",
       "</style>\n",
       "<table border=\"1\" class=\"dataframe\">\n",
       "  <thead>\n",
       "    <tr style=\"text-align: right;\">\n",
       "      <th></th>\n",
       "      <th>ארכיון</th>\n",
       "      <th>סימול</th>\n",
       "      <th>סימול אב</th>\n",
       "      <th>ברקוד</th>\n",
       "      <th>סימול מקורי</th>\n",
       "      <th>רמת תיאור</th>\n",
       "      <th>מספר מיכל</th>\n",
       "      <th>קוד תיק ארכיון</th>\n",
       "      <th>כותרת</th>\n",
       "      <th>כותרת אנגלית</th>\n",
       "      <th>...</th>\n",
       "      <th>חומרים קשורים</th>\n",
       "      <th>תאריך פקיעת החיסיון</th>\n",
       "      <th>תקציר</th>\n",
       "      <th>קרדיט דימוי1</th>\n",
       "      <th>קרדיט דימוי2</th>\n",
       "      <th>מספר מערכת דימוי מייצג</th>\n",
       "      <th>שם הקובץ בתיקיה של הפריט המייצג</th>\n",
       "      <th>קרדיט עברית</th>\n",
       "      <th>קרדיט אנגלית</th>\n",
       "      <th>סוג הארכיון</th>\n",
       "    </tr>\n",
       "    <tr>\n",
       "      <th>MMS id</th>\n",
       "      <th></th>\n",
       "      <th></th>\n",
       "      <th></th>\n",
       "      <th></th>\n",
       "      <th></th>\n",
       "      <th></th>\n",
       "      <th></th>\n",
       "      <th></th>\n",
       "      <th></th>\n",
       "      <th></th>\n",
       "      <th></th>\n",
       "      <th></th>\n",
       "      <th></th>\n",
       "      <th></th>\n",
       "      <th></th>\n",
       "      <th></th>\n",
       "      <th></th>\n",
       "      <th></th>\n",
       "      <th></th>\n",
       "      <th></th>\n",
       "      <th></th>\n",
       "    </tr>\n",
       "  </thead>\n",
       "  <tbody>\n",
       "    <tr>\n",
       "      <th>990049153800205171</th>\n",
       "      <td>ArBe</td>\n",
       "      <td>ArBe</td>\n",
       "      <td></td>\n",
       "      <td></td>\n",
       "      <td></td>\n",
       "      <td>Fonds Record</td>\n",
       "      <td></td>\n",
       "      <td></td>\n",
       "      <td>אוסף דוד בסט</td>\n",
       "      <td></td>\n",
       "      <td>...</td>\n",
       "      <td></td>\n",
       "      <td></td>\n",
       "      <td></td>\n",
       "      <td></td>\n",
       "      <td></td>\n",
       "      <td></td>\n",
       "      <td></td>\n",
       "      <td>NaN</td>\n",
       "      <td>NaN</td>\n",
       "      <td>NaN</td>\n",
       "    </tr>\n",
       "    <tr>\n",
       "      <th>990049153810205171</th>\n",
       "      <td>ArBe</td>\n",
       "      <td>ArBe-001</td>\n",
       "      <td>ArBe</td>\n",
       "      <td></td>\n",
       "      <td></td>\n",
       "      <td>Sub-Fonds Record</td>\n",
       "      <td></td>\n",
       "      <td></td>\n",
       "      <td>תכניות ושרטוטים מגולגלים</td>\n",
       "      <td>Rolled-up floor plans and sketches</td>\n",
       "      <td>...</td>\n",
       "      <td></td>\n",
       "      <td></td>\n",
       "      <td></td>\n",
       "      <td></td>\n",
       "      <td></td>\n",
       "      <td></td>\n",
       "      <td></td>\n",
       "      <td>NaN</td>\n",
       "      <td>NaN</td>\n",
       "      <td>NaN</td>\n",
       "    </tr>\n",
       "    <tr>\n",
       "      <th>990049153820205171</th>\n",
       "      <td>ArBe</td>\n",
       "      <td>ArBe-001-001</td>\n",
       "      <td>ArBe-001</td>\n",
       "      <td>202949</td>\n",
       "      <td></td>\n",
       "      <td>Series Record</td>\n",
       "      <td></td>\n",
       "      <td></td>\n",
       "      <td>תכניות ושרטוטים - שכונת נוה דוד - דימונה 1 מתוך 2</td>\n",
       "      <td>Floor plans and sketches - Neve David neighbor...</td>\n",
       "      <td>...</td>\n",
       "      <td></td>\n",
       "      <td></td>\n",
       "      <td></td>\n",
       "      <td></td>\n",
       "      <td></td>\n",
       "      <td></td>\n",
       "      <td></td>\n",
       "      <td>NaN</td>\n",
       "      <td>NaN</td>\n",
       "      <td>NaN</td>\n",
       "    </tr>\n",
       "    <tr>\n",
       "      <th>990049153830205171</th>\n",
       "      <td>ArBe</td>\n",
       "      <td>ArBe-001-002</td>\n",
       "      <td>ArBe-001</td>\n",
       "      <td>3788</td>\n",
       "      <td></td>\n",
       "      <td>Series Record</td>\n",
       "      <td></td>\n",
       "      <td></td>\n",
       "      <td>תכניות ושרטוטים - שכונת נוה דוד - דימונה 2 מתוך 2</td>\n",
       "      <td>Floor plans and sketches - Neve David neighbor...</td>\n",
       "      <td>...</td>\n",
       "      <td></td>\n",
       "      <td></td>\n",
       "      <td></td>\n",
       "      <td></td>\n",
       "      <td></td>\n",
       "      <td></td>\n",
       "      <td></td>\n",
       "      <td>NaN</td>\n",
       "      <td>NaN</td>\n",
       "      <td>NaN</td>\n",
       "    </tr>\n",
       "    <tr>\n",
       "      <th>990049153840205171</th>\n",
       "      <td>ArBe</td>\n",
       "      <td>ArBe-001-003</td>\n",
       "      <td>ArBe-001</td>\n",
       "      <td>202965</td>\n",
       "      <td></td>\n",
       "      <td>Series Record</td>\n",
       "      <td></td>\n",
       "      <td></td>\n",
       "      <td>תכניות ושרטוטים - שיקום בתים - קונטרה 1 מתוך 2</td>\n",
       "      <td>Floor plans and sketches - Housing restoration...</td>\n",
       "      <td>...</td>\n",
       "      <td></td>\n",
       "      <td></td>\n",
       "      <td></td>\n",
       "      <td></td>\n",
       "      <td></td>\n",
       "      <td></td>\n",
       "      <td></td>\n",
       "      <td>NaN</td>\n",
       "      <td>NaN</td>\n",
       "      <td>NaN</td>\n",
       "    </tr>\n",
       "  </tbody>\n",
       "</table>\n",
       "<p>5 rows × 61 columns</p>\n",
       "</div>"
      ],
      "text/plain": [
       "                   ארכיון         סימול  סימול אב   ברקוד סימול מקורי  \\\n",
       "MMS id                                                                  \n",
       "990049153800205171   ArBe          ArBe                                 \n",
       "990049153810205171   ArBe      ArBe-001      ArBe                       \n",
       "990049153820205171   ArBe  ArBe-001-001  ArBe-001  202949               \n",
       "990049153830205171   ArBe  ArBe-001-002  ArBe-001    3788               \n",
       "990049153840205171   ArBe  ArBe-001-003  ArBe-001  202965               \n",
       "\n",
       "                           רמת תיאור מספר מיכל קוד תיק ארכיון  \\\n",
       "MMS id                                                          \n",
       "990049153800205171      Fonds Record                            \n",
       "990049153810205171  Sub-Fonds Record                            \n",
       "990049153820205171     Series Record                            \n",
       "990049153830205171     Series Record                            \n",
       "990049153840205171     Series Record                            \n",
       "\n",
       "                                                                כותרת  \\\n",
       "MMS id                                                                  \n",
       "990049153800205171                                       אוסף דוד בסט   \n",
       "990049153810205171                           תכניות ושרטוטים מגולגלים   \n",
       "990049153820205171  תכניות ושרטוטים - שכונת נוה דוד - דימונה 1 מתוך 2   \n",
       "990049153830205171  תכניות ושרטוטים - שכונת נוה דוד - דימונה 2 מתוך 2   \n",
       "990049153840205171     תכניות ושרטוטים - שיקום בתים - קונטרה 1 מתוך 2   \n",
       "\n",
       "                                                         כותרת אנגלית  ...  \\\n",
       "MMS id                                                                 ...   \n",
       "990049153800205171                                                     ...   \n",
       "990049153810205171                 Rolled-up floor plans and sketches  ...   \n",
       "990049153820205171  Floor plans and sketches - Neve David neighbor...  ...   \n",
       "990049153830205171  Floor plans and sketches - Neve David neighbor...  ...   \n",
       "990049153840205171  Floor plans and sketches - Housing restoration...  ...   \n",
       "\n",
       "                   חומרים קשורים תאריך פקיעת החיסיון תקציר קרדיט דימוי1  \\\n",
       "MMS id                                                                    \n",
       "990049153800205171                                                        \n",
       "990049153810205171                                                        \n",
       "990049153820205171                                                        \n",
       "990049153830205171                                                        \n",
       "990049153840205171                                                        \n",
       "\n",
       "                   קרדיט דימוי2 מספר מערכת דימוי מייצג  \\\n",
       "MMS id                                                   \n",
       "990049153800205171                                       \n",
       "990049153810205171                                       \n",
       "990049153820205171                                       \n",
       "990049153830205171                                       \n",
       "990049153840205171                                       \n",
       "\n",
       "                   שם הקובץ בתיקיה של הפריט המייצג קרדיט עברית קרדיט אנגלית  \\\n",
       "MMS id                                                                        \n",
       "990049153800205171                                         NaN          NaN   \n",
       "990049153810205171                                         NaN          NaN   \n",
       "990049153820205171                                         NaN          NaN   \n",
       "990049153830205171                                         NaN          NaN   \n",
       "990049153840205171                                         NaN          NaN   \n",
       "\n",
       "                   סוג הארכיון  \n",
       "MMS id                          \n",
       "990049153800205171         NaN  \n",
       "990049153810205171         NaN  \n",
       "990049153820205171         NaN  \n",
       "990049153830205171         NaN  \n",
       "990049153840205171         NaN  \n",
       "\n",
       "[5 rows x 61 columns]"
      ]
     },
     "execution_count": 19,
     "metadata": {},
     "output_type": "execute_result"
    }
   ],
   "source": [
    "master_catalog.head()"
   ]
  },
  {
   "cell_type": "code",
   "execution_count": 25,
   "metadata": {},
   "outputs": [
    {
     "data": {
      "text/plain": [
       "98"
      ]
     },
     "execution_count": 25,
     "metadata": {},
     "output_type": "execute_result"
    }
   ],
   "source": [
    "len(sorted(master_catalog[\"ארכיון\"].unique()))"
   ]
  },
  {
   "cell_type": "markdown",
   "metadata": {
    "cell_style": "center",
    "deletable": false,
    "editable": false,
    "run_control": {
     "frozen": true
    }
   },
   "source": [
    "# get bad records"
   ]
  },
  {
   "cell_type": "code",
   "execution_count": 26,
   "metadata": {},
   "outputs": [],
   "source": [
    "df_repairs = pd.ExcelFile(\"Data/copyright_repairs_30062021.xlsx\").parse(\"Sheet1\").set_index(\"001\")"
   ]
  },
  {
   "cell_type": "code",
   "execution_count": 27,
   "metadata": {},
   "outputs": [],
   "source": [
    "df_repairs.index = df_repairs.index.rename(\"MMS id\")\n",
    "    "
   ]
  },
  {
   "cell_type": "code",
   "execution_count": 28,
   "metadata": {},
   "outputs": [],
   "source": [
    "df_repairs.index = df_repairs.index.astype(str)"
   ]
  },
  {
   "cell_type": "code",
   "execution_count": 29,
   "metadata": {},
   "outputs": [
    {
     "data": {
      "text/plain": [
       "תאריך מנורמל מוקדם                 1963\n",
       "תאריך מנורמל מאוחר           1986-08-26\n",
       "סימול                 PZvHe-003-001-013\n",
       "Name: 997007616462305171, dtype: object"
      ]
     },
     "execution_count": 29,
     "metadata": {},
     "output_type": "execute_result"
    }
   ],
   "source": [
    "master_catalog.loc[df_repairs.index[0], [\"תאריך מנורמל מוקדם\", \"תאריך מנורמל מאוחר\", \"סימול\"]]"
   ]
  },
  {
   "cell_type": "code",
   "execution_count": 30,
   "metadata": {},
   "outputs": [],
   "source": [
    "df_repairs[\"תאריך מנורמל מוקדם\"] = ''\n",
    "df_repairs[\"תאריך מנורמל מאוחר\"] = ''\n",
    "\n",
    "for index, row in df_repairs.iterrows():\n",
    "    if index in list(master_catalog.index):\n",
    "        df_repairs.loc[index, \"תאריך מנורמל מוקדם\"] = master_catalog.loc[index, \"תאריך מנורמל מוקדם\"]\n",
    "        df_repairs.loc[index, \"תאריך מנורמל מאוחר\"] = master_catalog.loc[index, \"תאריך מנורמל מאוחר\"]\n",
    "    "
   ]
  },
  {
   "cell_type": "code",
   "execution_count": 31,
   "metadata": {},
   "outputs": [],
   "source": [
    "df_repairs.to_excel(\"copyright_repairs_results_07072021.xlsx\")"
   ]
  },
  {
   "cell_type": "markdown",
   "metadata": {
    "deletable": false,
    "editable": false,
    "run_control": {
     "frozen": true
    }
   },
   "source": [
    "# Find Keywords"
   ]
  },
  {
   "cell_type": "code",
   "execution_count": null,
   "metadata": {},
   "outputs": [],
   "source": [
    "from VC_collections import files"
   ]
  },
  {
   "cell_type": "code",
   "execution_count": null,
   "metadata": {},
   "outputs": [],
   "source": [
    "keywords_spreadsheet = client.open_by_url(\n",
    "            \"https://docs.google.com/spreadsheets/d/1OeykES6h-vzNsdqtvn_TznyxY3rg5aoYEFahj6tVXBE\"\n",
    "        )"
   ]
  },
  {
   "cell_type": "code",
   "execution_count": null,
   "metadata": {},
   "outputs": [],
   "source": [
    "df_terms, cols = files.create_df_from_gs(keywords_spreadsheet, \"נושאים\")"
   ]
  },
  {
   "cell_type": "code",
   "execution_count": null,
   "metadata": {},
   "outputs": [],
   "source": [
    "terms_to_search = list(filter(None,df_terms[\"נושא רמה 3\"].tolist()))\n",
    "# terms_to_search = map()"
   ]
  },
  {
   "cell_type": "code",
   "execution_count": null,
   "metadata": {},
   "outputs": [],
   "source": [
    "df_rei = pd.ExcelFile(r'Data/REI.xlsx').parse('Sheet1')"
   ]
  },
  {
   "cell_type": "code",
   "execution_count": null,
   "metadata": {},
   "outputs": [],
   "source": [
    "df_rei.head()"
   ]
  },
  {
   "cell_type": "code",
   "execution_count": null,
   "metadata": {},
   "outputs": [],
   "source": [
    "columns_to_save = [\"סימול\",\n",
    "                   \"רמת תיאור\",\n",
    "                   \"כותרת\",\n",
    "                   \"תיאור\",\n",
    "                   \"תאריך חופשי\",\n",
    "                   \"תאריך מנורמל מוקדם\",\n",
    "                   \"תאריך מנורמל מאוחר\",\n",
    "                   \"יוצרים\",\n",
    "                   \"מילות מפתח - אישים\",\n",
    "                   \"מילות מפתח - מוסדות\",\n",
    "                   \"מילות מפתח_נושאים\",\n",
    "                   \"מילות מפתח_מקומות\"]"
   ]
  },
  {
   "cell_type": "code",
   "execution_count": null,
   "metadata": {},
   "outputs": [],
   "source": [
    "from collections import defaultdict\n",
    "dfs = defaultdict()\n",
    "for term in terms_to_search:\n",
    "\n",
    "    df = master_catalog[master_catalog.apply(lambda row: row.astype(str).str.contains(term).any(), axis=1)]\n",
    "    dfs[term]= df[columns_to_save]\n",
    "    "
   ]
  },
  {
   "cell_type": "code",
   "execution_count": null,
   "metadata": {},
   "outputs": [],
   "source": [
    "from collections import defaultdict\n",
    "dfs = defaultdict()\n",
    "\n",
    "for term in terms_to_search:\n",
    "    df = df_rei[df_rei.apply(lambda row: row.astype(str).str.contains(term).any(), axis=1)]\n",
    "    dfs[term] = df"
   ]
  },
  {
   "cell_type": "code",
   "execution_count": null,
   "metadata": {},
   "outputs": [],
   "source": [
    "occurences = dict()\n",
    "\n",
    "for key in dfs.keys():\n",
    "    occurences[key] = len(dfs[key])\n",
    "    print(f\"{key} - מספר מופעים: {len(dfs[key])}\")\n",
    "\n"
   ]
  },
  {
   "cell_type": "code",
   "execution_count": null,
   "metadata": {},
   "outputs": [],
   "source": [
    "df_terms"
   ]
  },
  {
   "cell_type": "code",
   "execution_count": null,
   "metadata": {},
   "outputs": [],
   "source": [
    "df_occurances = pd.DataFrame(occurences, index=[\"occurances\"]).transpose()\n",
    "df_terms = df_terms.set_index(\"נושא רמה 3\")\n",
    "# for index, row in df_occurances.iterrows():\n",
    "#     df_\n"
   ]
  },
  {
   "cell_type": "code",
   "execution_count": null,
   "metadata": {},
   "outputs": [],
   "source": [
    "df_join = df_occurances.join(df_terms)\n",
    "df_join.loc[:,[\"נושא רמה 1\", \"נושא רמה 2\", \"occurances\"]].to_excel(input(\"name:\")+\".xlsx\")"
   ]
  },
  {
   "cell_type": "code",
   "execution_count": null,
   "metadata": {
    "scrolled": true
   },
   "outputs": [],
   "source": [
    "\n",
    "keywords_spreadsheet = pd.ExcelWriter(input(str(\"enter file name without extension\"))+'.xlsx')\n",
    "for term, df in dfs.items():\n",
    "    print(term)\n",
    "    print(len(df))\n",
    "    df.to_excel(keywords_spreadsheet, sheet_name=term.decode('utf-8','ignore').encode(\"utf-8\"))"
   ]
  },
  {
   "cell_type": "code",
   "execution_count": null,
   "metadata": {},
   "outputs": [],
   "source": [
    "from pandas import ExcelWriter\n",
    "\n",
    "\n",
    "def save_xls(list_dfs, xls_path):\n",
    "    with ExcelWriter(xls_path) as writer:\n",
    "        for term, df in list_dfs.items():\n",
    "            df.to_excel(writer,f's_{term}')\n",
    "        writer.save()"
   ]
  },
  {
   "cell_type": "code",
   "execution_count": null,
   "metadata": {},
   "outputs": [],
   "source": [
    "save_xls(dfs, \"keywords.xlsx\")"
   ]
  },
  {
   "cell_type": "markdown",
   "metadata": {},
   "source": [
    "# update correct names\n",
    "from Python\\Projects\\Authorities"
   ]
  },
  {
   "cell_type": "code",
   "execution_count": null,
   "metadata": {},
   "outputs": [],
   "source": [
    "import json\n",
    "\n",
    "with open(\"../Projects/Authorities/names_variant.json\", encoding='utf-8') as fp:\n",
    "    names_dict = json.load(fp)"
   ]
  },
  {
   "cell_type": "code",
   "execution_count": null,
   "metadata": {},
   "outputs": [],
   "source": [
    "dfs = [df_Architect, df_Dance, df_Design, df_Theater]\n"
   ]
  },
  {
   "cell_type": "code",
   "execution_count": null,
   "metadata": {},
   "outputs": [],
   "source": [
    "from VC_collections.authorities import convert_dict\n",
    "\n",
    "names_mapping_dict = convert_dict(names_dict)\n",
    "names_mapping_dict = {key: value[0] for key, value in names_mapping_dict.items()} "
   ]
  },
  {
   "cell_type": "code",
   "execution_count": null,
   "metadata": {},
   "outputs": [],
   "source": [
    "%%timeit\n",
    "\n",
    "for key in names_mapping_dict.keys():\n",
    "    for df in dfs:\n",
    "        df.replace(key, names_mapping_dict[key])"
   ]
  },
  {
   "cell_type": "code",
   "execution_count": null,
   "metadata": {},
   "outputs": [],
   "source": [
    "from  df2gspread import df2gspread as d2g\n",
    "from VC_collections.Collection import get_google_drive_credentials"
   ]
  },
  {
   "cell_type": "code",
   "execution_count": null,
   "metadata": {},
   "outputs": [],
   "source": [
    "def update_master_catalog_gfile(df, gfile, name, credentials):\n",
    "    wkt = d2g.upload(df, \n",
    "                     gfile=gfile,\n",
    "                     wks_name=name,\n",
    "                    credentials=credentials, \n",
    "                    )\n",
    "    print( f'uploaded {eval(df)} to google sheets')"
   ]
  },
  {
   "cell_type": "code",
   "execution_count": null,
   "metadata": {},
   "outputs": [],
   "source": [
    "cred = get_google_drive_credentials()\n"
   ]
  },
  {
   "cell_type": "code",
   "execution_count": null,
   "metadata": {},
   "outputs": [],
   "source": [
    "update_master_catalog_gfile(df_Architect, catalog_files[\"Architect\"], \"test\", credentials=cred)\n",
    "update_master_catalog_gfile(df_Dance, catalog_files[\"Dance\"], \"test\", credentials=cred)\n",
    "update_master_catalog_gfile(df_Design, catalog_files[\"Design\"], \"test\", credentials=cred)\n",
    "update_master_catalog_gfile(df_Theater, catalog_files[\"Theater\"], \"test\", credentials=cred)"
   ]
  },
  {
   "cell_type": "markdown",
   "metadata": {},
   "source": [
    "## Look up creators in entire catalog"
   ]
  },
  {
   "cell_type": "code",
   "execution_count": null,
   "metadata": {},
   "outputs": [],
   "source": [
    "import numpy as np\n",
    "\n",
    "term_to_search = input(str(\"What to search? \"))\n",
    "\n",
    "mask = np.column_stack([master_catalog[col].astype(str).str.contains(term_to_search, na=False) for col in master_catalog])\n",
    "df_test = master_catalog.loc[mask.any(axis=1)]"
   ]
  },
  {
   "cell_type": "code",
   "execution_count": null,
   "metadata": {},
   "outputs": [],
   "source": [
    "df_test[['יוצרים', \"ארכיון\"]]"
   ]
  },
  {
   "cell_type": "code",
   "execution_count": null,
   "metadata": {},
   "outputs": [],
   "source": [
    "import xmltodict \n",
    "import json"
   ]
  },
  {
   "cell_type": "code",
   "execution_count": null,
   "metadata": {},
   "outputs": [],
   "source": [
    "with open(r\"C:\\Users\\Yaelg\\Google Drive\\National_Library\\Python\\VC-Architect\\PYeIl\\Data\\processed\\PYeIl_final_20210617.xml\", encoding=\"utf8\") as xml_file:\n",
    "    data_dict = xmltodict.parse(xml_file.read())"
   ]
  },
  {
   "cell_type": "code",
   "execution_count": null,
   "metadata": {},
   "outputs": [],
   "source": [
    "xml_file.close()\n"
   ]
  },
  {
   "cell_type": "code",
   "execution_count": null,
   "metadata": {},
   "outputs": [],
   "source": [
    "json_data = json.dumps(data_dict)"
   ]
  },
  {
   "cell_type": "code",
   "execution_count": null,
   "metadata": {},
   "outputs": [],
   "source": [
    "with open(\"data.json\", \"w\") as json_file:\n",
    "        json_file.write(json_data)"
   ]
  },
  {
   "cell_type": "code",
   "execution_count": null,
   "metadata": {},
   "outputs": [],
   "source": [
    "json_file.close()\n"
   ]
  },
  {
   "cell_type": "code",
   "execution_count": null,
   "metadata": {},
   "outputs": [],
   "source": []
  }
 ],
 "metadata": {
  "kernelspec": {
   "display_name": "Python 3",
   "language": "python",
   "name": "python3"
  },
  "language_info": {
   "codemirror_mode": {
    "name": "ipython",
    "version": 3
   },
   "file_extension": ".py",
   "mimetype": "text/x-python",
   "name": "python",
   "nbconvert_exporter": "python",
   "pygments_lexer": "ipython3",
   "version": "3.8.6rc1"
  }
 },
 "nbformat": 4,
 "nbformat_minor": 4
}
